{
 "cells": [
  {
   "cell_type": "code",
   "execution_count": 1,
   "id": "d24a7fc7",
   "metadata": {},
   "outputs": [],
   "source": [
    "from selenium import webdriver\n",
    "from selenium.webdriver.common.keys import Keys\n",
    "from selenium.webdriver.chrome.options import Options\n",
    "import time\n",
    "import pyautogui\n",
    "from threading import *"
   ]
  },
  {
   "cell_type": "code",
   "execution_count": 2,
   "id": "8a9e63c3",
   "metadata": {},
   "outputs": [],
   "source": [
    "#로그인url\n",
    "url1 = \"https://login.11st.co.kr/auth/front/login.tmall?returnURL=https%3A%2F%2Fwww.11st.co.kr%2Fmain%3Fgclid%3DCj0KCQiAnb79BRDgARIsAOVbhRrxibgsWBSGunpebFEvij9z7MOpeQv4iNIikxW9Uk2AlhDw9lAYl1UaAta7EALw_wcB%26utm_term%3D11%25B9%25F8%25B0%25A1%26utm_campaign%3D%2B0810%2BPC%2B%25BA%25EA%25B7%25A3%25B5%25E5%2BK%2B%25B8%25DE%25C0%25CE%25B7%25A3%25B5%25F9%25C0%25B8%25B7%25CE%25BF%25AC%25B0%25E1%26utm_source%3D%25B1%25B8%25B1%25DB_PC_S%26utm_medium%3D%25B0%25CB%25BB%25F6\"\n",
    "#상품url\n",
    "url2 = 'http://www.11st.co.kr/products/3428070582?&trTypeCd=20&trCtgrNo=1002761'"
   ]
  },
  {
   "cell_type": "code",
   "execution_count": 3,
   "id": "c47ed467",
   "metadata": {},
   "outputs": [],
   "source": [
    "prefs = {\"profile.managed_default_content_settings.images\": 2}\n",
    "chrome_options = Options()\n",
    "chrome_options.add_argument('--user-agent=Mozilla/5.0 (iPhone; CPU iPhone OS 10_3 like Mac OS X) AppleWebKit/602.1.50 (KHTML, like Gecko) CriOS/56.0.2924.75 Mobile/14E5239e Safari/602.1')\n",
    "# chrome_options.add_experimental_option(\"prefs\", prefs)"
   ]
  },
  {
   "cell_type": "code",
   "execution_count": 4,
   "id": "696a9b78",
   "metadata": {},
   "outputs": [],
   "source": [
    "driver = webdriver.Chrome(\"E:\\chromedriver\", options=chrome_options)\n",
    "driver.maximize_window()\n",
    "driver.get(url1)"
   ]
  },
  {
   "cell_type": "code",
   "execution_count": 5,
   "id": "0274287d",
   "metadata": {},
   "outputs": [],
   "source": [
    "driver.find_element_by_name('loginName').send_keys('machianb')\n",
    "driver.find_element_by_name('passWord').send_keys('!Phoenix7')\n",
    "driver.find_element_by_class_name(\"btn_Atype\").click()"
   ]
  },
  {
   "cell_type": "code",
   "execution_count": 6,
   "id": "c03a7695",
   "metadata": {},
   "outputs": [],
   "source": [
    "driver.get(url2)\n",
    "driver.implicitly_wait(10)"
   ]
  },
  {
   "cell_type": "code",
   "execution_count": 7,
   "id": "8dd514a0",
   "metadata": {},
   "outputs": [],
   "source": [
    "driver.find_element_by_class_name(\"buy\").click()\n",
    "driver.implicitly_wait(10)"
   ]
  },
  {
   "cell_type": "code",
   "execution_count": 8,
   "id": "d8c49d01",
   "metadata": {},
   "outputs": [],
   "source": [
    "time.sleep(0.2)\n",
    "driver.find_element_by_xpath('//*[@id=\"optionContainer\"]/div[1]/div[1]/button').click()\n",
    "driver.implicitly_wait(10)"
   ]
  },
  {
   "cell_type": "code",
   "execution_count": 9,
   "id": "e7076b7d",
   "metadata": {},
   "outputs": [],
   "source": [
    "driver.find_element_by_xpath('//*[@id=\"optlst_prdGrp\"]/li[1]/a').click()\n",
    "driver.implicitly_wait(10)"
   ]
  },
  {
   "cell_type": "code",
   "execution_count": 8,
   "id": "d4a7a329",
   "metadata": {},
   "outputs": [],
   "source": [
    "driver.find_element_by_xpath('//*[@id=\"optionContainer\"]/div[3]/div[2]/button').click()\n",
    "driver.implicitly_wait(10)"
   ]
  },
  {
   "cell_type": "code",
   "execution_count": 9,
   "id": "152b3e13",
   "metadata": {},
   "outputs": [],
   "source": [
    "driver.find_element_by_xpath('//*[@id=\"doPaySubmit\"]').click()\n",
    "driver.implicitly_wait(10)"
   ]
  },
  {
   "cell_type": "code",
   "execution_count": 10,
   "id": "252fb783",
   "metadata": {},
   "outputs": [],
   "source": [
    "pyautogui.moveTo(1490, 520, 0)\n",
    "pyautogui.click()\n",
    "pyautogui.click()\n",
    "pyautogui.moveTo(1640, 520, 0)\n",
    "pyautogui.click()\n",
    "pyautogui.click()\n",
    "pyautogui.moveTo(1490, 520, 0)\n",
    "pyautogui.click()"
   ]
  },
  {
   "cell_type": "code",
   "execution_count": null,
   "id": "a744bb68",
   "metadata": {},
   "outputs": [],
   "source": []
  }
 ],
 "metadata": {
  "kernelspec": {
   "display_name": "Python 3",
   "language": "python",
   "name": "python3"
  },
  "language_info": {
   "codemirror_mode": {
    "name": "ipython",
    "version": 3
   },
   "file_extension": ".py",
   "mimetype": "text/x-python",
   "name": "python",
   "nbconvert_exporter": "python",
   "pygments_lexer": "ipython3",
   "version": "3.8.5"
  }
 },
 "nbformat": 4,
 "nbformat_minor": 5
}
