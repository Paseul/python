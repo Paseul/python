{
 "cells": [
  {
   "cell_type": "code",
   "execution_count": 1,
   "metadata": {},
   "outputs": [],
   "source": [
    "import tensorflow as tf\n",
    "from tensorflow.keras.preprocessing.image import ImageDataGenerator\n",
    "from tensorflow.keras.optimizers import RMSprop\n",
    "import os"
   ]
  },
  {
   "cell_type": "code",
   "execution_count": 2,
   "metadata": {},
   "outputs": [],
   "source": [
    "base_dir = 'cats_and_dogs_filtered'\n",
    "\n",
    "train_dir = os.path.join(base_dir, 'train')\n",
    "validation_dir = os.path.join(base_dir, 'validation')\n",
    "\n",
    "# Directory with our training cat/dog pictures\n",
    "train_cats_dir = os.path.join(train_dir, 'cats')\n",
    "train_dogs_dir = os.path.join(train_dir, 'dogs')\n",
    "\n",
    "# Directory with our validation cat/dog pictures\n",
    "validation_cats_dir = os.path.join(validation_dir, 'cats')\n",
    "validation_dogs_dir = os.path.join(validation_dir, 'dogs')\n"
   ]
  },
  {
   "cell_type": "code",
   "execution_count": 3,
   "metadata": {},
   "outputs": [
    {
     "name": "stdout",
     "output_type": "stream",
     "text": [
      "Found 2000 images belonging to 2 classes.\n"
     ]
    }
   ],
   "source": [
    "train_datagen = ImageDataGenerator(\n",
    "    rescale=1./255,\n",
    "    rotation_range=40,\n",
    "    width_shift_range=0.2,\n",
    "    height_shift_range=0.2,\n",
    "    shear_range=0.2,\n",
    "    zoom_range=0.2,\n",
    "    horizontal_flip=True,\n",
    "    fill_mode='nearest'\n",
    ")\n",
    "train_generator = train_datagen.flow_from_directory(\n",
    "    train_dir,\n",
    "    target_size=(150, 150),\n",
    "    batch_size=20,\n",
    "    class_mode='binary'\n",
    ")"
   ]
  },
  {
   "cell_type": "code",
   "execution_count": 4,
   "metadata": {},
   "outputs": [
    {
     "name": "stdout",
     "output_type": "stream",
     "text": [
      "Found 1000 images belonging to 2 classes.\n"
     ]
    }
   ],
   "source": [
    "test_datagen = ImageDataGenerator(rescale=1./255)\n",
    "validation_generator = test_datagen.flow_from_directory(\n",
    "    validation_dir,\n",
    "    target_size=(150, 150),\n",
    "    batch_size=20,\n",
    "    class_mode='binary'\n",
    ")"
   ]
  },
  {
   "cell_type": "code",
   "execution_count": 5,
   "metadata": {},
   "outputs": [],
   "source": [
    "model = tf.keras.models.Sequential([\n",
    "    tf.keras.layers.Conv2D(16, (3,3), activation='relu', input_shape=(150, 150, 3)),\n",
    "    tf.keras.layers.MaxPooling2D(2,2),\n",
    "    tf.keras.layers.Conv2D(32, (3,3), activation='relu'),\n",
    "    tf.keras.layers.MaxPooling2D(2,2),\n",
    "    tf.keras.layers.Conv2D(64, (3,3), activation='relu'),\n",
    "    tf.keras.layers.MaxPooling2D(2,2),\n",
    "    tf.keras.layers.Flatten(),\n",
    "    tf.keras.layers.Dense(512, activation='relu'),\n",
    "    tf.keras.layers.Dense(1, activation='sigmoid')\n",
    "])"
   ]
  },
  {
   "cell_type": "code",
   "execution_count": 6,
   "metadata": {},
   "outputs": [
    {
     "name": "stdout",
     "output_type": "stream",
     "text": [
      "Model: \"sequential\"\n",
      "_________________________________________________________________\n",
      "Layer (type)                 Output Shape              Param #   \n",
      "=================================================================\n",
      "conv2d (Conv2D)              (None, 148, 148, 16)      448       \n",
      "_________________________________________________________________\n",
      "max_pooling2d (MaxPooling2D) (None, 74, 74, 16)        0         \n",
      "_________________________________________________________________\n",
      "conv2d_1 (Conv2D)            (None, 72, 72, 32)        4640      \n",
      "_________________________________________________________________\n",
      "max_pooling2d_1 (MaxPooling2 (None, 36, 36, 32)        0         \n",
      "_________________________________________________________________\n",
      "conv2d_2 (Conv2D)            (None, 34, 34, 64)        18496     \n",
      "_________________________________________________________________\n",
      "max_pooling2d_2 (MaxPooling2 (None, 17, 17, 64)        0         \n",
      "_________________________________________________________________\n",
      "flatten (Flatten)            (None, 18496)             0         \n",
      "_________________________________________________________________\n",
      "dense (Dense)                (None, 512)               9470464   \n",
      "_________________________________________________________________\n",
      "dense_1 (Dense)              (None, 1)                 513       \n",
      "=================================================================\n",
      "Total params: 9,494,561\n",
      "Trainable params: 9,494,561\n",
      "Non-trainable params: 0\n",
      "_________________________________________________________________\n"
     ]
    }
   ],
   "source": [
    "model.summary()"
   ]
  },
  {
   "cell_type": "code",
   "execution_count": 7,
   "metadata": {},
   "outputs": [
    {
     "name": "stderr",
     "output_type": "stream",
     "text": [
      "c:\\github\\python\\lecture\\venv\\lib\\site-packages\\tensorflow\\python\\keras\\optimizer_v2\\optimizer_v2.py:374: UserWarning: The `lr` argument is deprecated, use `learning_rate` instead.\n",
      "  warnings.warn(\n"
     ]
    }
   ],
   "source": [
    "model.compile(loss='binary_crossentropy',\n",
    "             optimizer=RMSprop(lr=0.001),\n",
    "             metrics=['acc'])"
   ]
  },
  {
   "cell_type": "code",
   "execution_count": 8,
   "metadata": {},
   "outputs": [
    {
     "name": "stdout",
     "output_type": "stream",
     "text": [
      "Epoch 1/100\n",
      "100/100 [==============================] - 27s 209ms/step - loss: 0.7843 - acc: 0.5155 - val_loss: 0.6728 - val_acc: 0.6310\n",
      "Epoch 2/100\n",
      "100/100 [==============================] - 10s 102ms/step - loss: 0.6797 - acc: 0.5815 - val_loss: 0.6445 - val_acc: 0.6560\n",
      "Epoch 3/100\n",
      "100/100 [==============================] - 10s 103ms/step - loss: 0.6549 - acc: 0.6145 - val_loss: 0.6132 - val_acc: 0.6450\n",
      "Epoch 4/100\n",
      "100/100 [==============================] - 11s 106ms/step - loss: 0.6424 - acc: 0.6415 - val_loss: 0.6997 - val_acc: 0.5860\n",
      "Epoch 5/100\n",
      "100/100 [==============================] - 11s 106ms/step - loss: 0.6291 - acc: 0.6540 - val_loss: 0.5770 - val_acc: 0.6810\n",
      "Epoch 6/100\n",
      "100/100 [==============================] - 10s 102ms/step - loss: 0.6148 - acc: 0.6715 - val_loss: 0.5677 - val_acc: 0.7000\n",
      "Epoch 7/100\n",
      "100/100 [==============================] - 10s 102ms/step - loss: 0.6106 - acc: 0.6645 - val_loss: 0.6079 - val_acc: 0.6350\n",
      "Epoch 8/100\n",
      "100/100 [==============================] - 10s 102ms/step - loss: 0.6290 - acc: 0.6705 - val_loss: 0.6126 - val_acc: 0.6830\n",
      "Epoch 9/100\n",
      "100/100 [==============================] - 10s 102ms/step - loss: 0.6066 - acc: 0.6875 - val_loss: 0.5728 - val_acc: 0.7030\n",
      "Epoch 10/100\n",
      "100/100 [==============================] - 10s 103ms/step - loss: 0.6002 - acc: 0.6855 - val_loss: 0.5840 - val_acc: 0.6750\n",
      "Epoch 11/100\n",
      "100/100 [==============================] - 10s 102ms/step - loss: 0.5752 - acc: 0.6990 - val_loss: 0.5449 - val_acc: 0.7080\n",
      "Epoch 12/100\n",
      "100/100 [==============================] - 10s 102ms/step - loss: 0.5710 - acc: 0.7015 - val_loss: 0.6350 - val_acc: 0.6610\n",
      "Epoch 13/100\n",
      "100/100 [==============================] - 10s 103ms/step - loss: 0.5667 - acc: 0.7105 - val_loss: 0.5355 - val_acc: 0.7270\n",
      "Epoch 14/100\n",
      "100/100 [==============================] - 10s 101ms/step - loss: 0.5737 - acc: 0.7055 - val_loss: 0.5562 - val_acc: 0.7110\n",
      "Epoch 15/100\n",
      "100/100 [==============================] - 10s 102ms/step - loss: 0.5507 - acc: 0.7185 - val_loss: 0.4928 - val_acc: 0.7740\n",
      "Epoch 16/100\n",
      "100/100 [==============================] - 10s 102ms/step - loss: 0.5547 - acc: 0.7120 - val_loss: 0.5264 - val_acc: 0.7450\n",
      "Epoch 17/100\n",
      "100/100 [==============================] - 10s 102ms/step - loss: 0.5634 - acc: 0.7150 - val_loss: 0.5359 - val_acc: 0.7470\n",
      "Epoch 18/100\n",
      "100/100 [==============================] - 10s 102ms/step - loss: 0.5456 - acc: 0.7230 - val_loss: 0.4904 - val_acc: 0.7700\n",
      "Epoch 19/100\n",
      "100/100 [==============================] - 10s 102ms/step - loss: 0.5458 - acc: 0.7270 - val_loss: 0.5173 - val_acc: 0.7450\n",
      "Epoch 20/100\n",
      "100/100 [==============================] - 10s 102ms/step - loss: 0.5352 - acc: 0.7330 - val_loss: 0.4989 - val_acc: 0.7560\n",
      "Epoch 21/100\n",
      "100/100 [==============================] - 10s 103ms/step - loss: 0.5420 - acc: 0.7250 - val_loss: 0.4813 - val_acc: 0.7740\n",
      "Epoch 22/100\n",
      "100/100 [==============================] - 10s 102ms/step - loss: 0.5306 - acc: 0.7415 - val_loss: 0.4890 - val_acc: 0.7670\n",
      "Epoch 23/100\n",
      "100/100 [==============================] - 10s 103ms/step - loss: 0.5421 - acc: 0.7200 - val_loss: 0.5174 - val_acc: 0.7490\n",
      "Epoch 24/100\n",
      "100/100 [==============================] - 10s 102ms/step - loss: 0.5221 - acc: 0.7530 - val_loss: 0.5186 - val_acc: 0.7560\n",
      "Epoch 25/100\n",
      "100/100 [==============================] - 10s 103ms/step - loss: 0.5409 - acc: 0.7300 - val_loss: 0.5494 - val_acc: 0.7270\n",
      "Epoch 26/100\n",
      "100/100 [==============================] - 10s 101ms/step - loss: 0.5322 - acc: 0.7470 - val_loss: 0.4890 - val_acc: 0.7750\n",
      "Epoch 27/100\n",
      "100/100 [==============================] - 10s 102ms/step - loss: 0.5111 - acc: 0.7490 - val_loss: 0.5677 - val_acc: 0.6990\n",
      "Epoch 28/100\n",
      "100/100 [==============================] - 10s 102ms/step - loss: 0.5355 - acc: 0.7400 - val_loss: 0.4853 - val_acc: 0.7580\n",
      "Epoch 29/100\n",
      "100/100 [==============================] - 10s 102ms/step - loss: 0.5127 - acc: 0.7475 - val_loss: 0.4752 - val_acc: 0.7720\n",
      "Epoch 30/100\n",
      "100/100 [==============================] - 10s 102ms/step - loss: 0.5116 - acc: 0.7620 - val_loss: 0.4684 - val_acc: 0.7920\n",
      "Epoch 31/100\n",
      "100/100 [==============================] - 10s 103ms/step - loss: 0.5056 - acc: 0.7575 - val_loss: 0.5201 - val_acc: 0.7490\n",
      "Epoch 32/100\n",
      "100/100 [==============================] - 10s 101ms/step - loss: 0.5038 - acc: 0.7570 - val_loss: 0.5288 - val_acc: 0.7300\n",
      "Epoch 33/100\n",
      "100/100 [==============================] - 10s 103ms/step - loss: 0.5213 - acc: 0.7435 - val_loss: 0.5210 - val_acc: 0.7360\n",
      "Epoch 34/100\n",
      "100/100 [==============================] - 10s 102ms/step - loss: 0.5017 - acc: 0.7470 - val_loss: 0.4757 - val_acc: 0.7780\n",
      "Epoch 35/100\n",
      "100/100 [==============================] - 10s 102ms/step - loss: 0.5069 - acc: 0.7585 - val_loss: 0.5571 - val_acc: 0.7600\n",
      "Epoch 36/100\n",
      "100/100 [==============================] - 10s 101ms/step - loss: 0.5039 - acc: 0.7590 - val_loss: 0.5412 - val_acc: 0.7220\n",
      "Epoch 37/100\n",
      "100/100 [==============================] - 10s 103ms/step - loss: 0.5098 - acc: 0.7495 - val_loss: 0.4974 - val_acc: 0.7600\n",
      "Epoch 38/100\n",
      "100/100 [==============================] - 10s 101ms/step - loss: 0.5038 - acc: 0.7570 - val_loss: 0.5128 - val_acc: 0.7620\n",
      "Epoch 39/100\n",
      "100/100 [==============================] - 10s 102ms/step - loss: 0.5032 - acc: 0.7605 - val_loss: 0.5160 - val_acc: 0.7370los\n",
      "Epoch 40/100\n",
      "100/100 [==============================] - 10s 101ms/step - loss: 0.4974 - acc: 0.7585 - val_loss: 0.4920 - val_acc: 0.7790\n",
      "Epoch 41/100\n",
      "100/100 [==============================] - 10s 103ms/step - loss: 0.4803 - acc: 0.7685 - val_loss: 0.5012 - val_acc: 0.7740\n",
      "Epoch 42/100\n",
      "100/100 [==============================] - 10s 102ms/step - loss: 0.4953 - acc: 0.7685 - val_loss: 0.4884 - val_acc: 0.7570A: 4s - loss: 0.4864 -  - ETA: 3s - loss: 0.4978 - acc: - E\n",
      "Epoch 43/100\n",
      "100/100 [==============================] - 10s 102ms/step - loss: 0.4925 - acc: 0.7665 - val_loss: 0.4782 - val_acc: 0.7730\n",
      "Epoch 44/100\n",
      "100/100 [==============================] - 10s 101ms/step - loss: 0.4991 - acc: 0.7725 - val_loss: 0.4969 - val_acc: 0.76700s - loss: 0.5038 - \n",
      "Epoch 45/100\n",
      "100/100 [==============================] - 10s 102ms/step - loss: 0.4850 - acc: 0.7690 - val_loss: 0.4611 - val_acc: 0.7800\n",
      "Epoch 46/100\n",
      "100/100 [==============================] - 10s 102ms/step - loss: 0.4881 - acc: 0.7590 - val_loss: 0.5553 - val_acc: 0.7680\n",
      "Epoch 47/100\n",
      "100/100 [==============================] - 10s 103ms/step - loss: 0.5013 - acc: 0.7625 - val_loss: 0.4898 - val_acc: 0.7640ss\n",
      "Epoch 48/100\n",
      "100/100 [==============================] - 10s 102ms/step - loss: 0.5135 - acc: 0.7685 - val_loss: 0.5155 - val_acc: 0.7510\n",
      "Epoch 49/100\n",
      "100/100 [==============================] - 10s 103ms/step - loss: 0.4967 - acc: 0.7675 - val_loss: 0.4616 - val_acc: 0.7870\n",
      "Epoch 50/100\n",
      "100/100 [==============================] - 10s 102ms/step - loss: 0.4922 - acc: 0.7660 - val_loss: 0.4834 - val_acc: 0.7650\n",
      "Epoch 51/100\n",
      "100/100 [==============================] - 10s 103ms/step - loss: 0.4881 - acc: 0.7715 - val_loss: 0.4806 - val_acc: 0.7750\n",
      "Epoch 52/100\n",
      "100/100 [==============================] - 10s 102ms/step - loss: 0.4823 - acc: 0.7790 - val_loss: 0.5090 - val_acc: 0.7720 loss: 0.4\n",
      "Epoch 53/100\n",
      "100/100 [==============================] - 10s 103ms/step - loss: 0.4769 - acc: 0.7800 - val_loss: 0.6039 - val_acc: 0.7310\n",
      "Epoch 54/100\n",
      "100/100 [==============================] - 10s 102ms/step - loss: 0.4824 - acc: 0.7730 - val_loss: 0.6469 - val_acc: 0.7340\n",
      "Epoch 55/100\n",
      "100/100 [==============================] - 10s 103ms/step - loss: 0.4702 - acc: 0.7900 - val_loss: 0.5565 - val_acc: 0.75404713 - acc: 0.78\n",
      "Epoch 56/100\n",
      "100/100 [==============================] - 10s 102ms/step - loss: 0.4647 - acc: 0.7845 - val_loss: 0.4526 - val_acc: 0.7810\n",
      "Epoch 57/100\n",
      "100/100 [==============================] - 10s 104ms/step - loss: 0.4723 - acc: 0.7800 - val_loss: 0.4540 - val_acc: 0.8020\n",
      "Epoch 58/100\n",
      "100/100 [==============================] - 10s 102ms/step - loss: 0.4671 - acc: 0.7870 - val_loss: 0.5550 - val_acc: 0.7850\n",
      "Epoch 59/100\n",
      "100/100 [==============================] - 10s 104ms/step - loss: 0.4701 - acc: 0.7890 - val_loss: 0.6733 - val_acc: 0.7650\n",
      "Epoch 60/100\n"
     ]
    },
    {
     "name": "stdout",
     "output_type": "stream",
     "text": [
      "100/100 [==============================] - 10s 102ms/step - loss: 0.4964 - acc: 0.7690 - val_loss: 0.4475 - val_acc: 0.7840\n",
      "Epoch 61/100\n",
      "100/100 [==============================] - 10s 103ms/step - loss: 0.4808 - acc: 0.7720 - val_loss: 0.4888 - val_acc: 0.7780\n",
      "Epoch 62/100\n",
      "100/100 [==============================] - 10s 102ms/step - loss: 0.4643 - acc: 0.7800 - val_loss: 0.5337 - val_acc: 0.7800\n",
      "Epoch 63/100\n",
      "100/100 [==============================] - 10s 104ms/step - loss: 0.4919 - acc: 0.7805 - val_loss: 0.6088 - val_acc: 0.7460\n",
      "Epoch 64/100\n",
      "100/100 [==============================] - 10s 103ms/step - loss: 0.4767 - acc: 0.7815 - val_loss: 0.4444 - val_acc: 0.7890s - ETA: 1s - loss: 0.4755 - acc: 0.78 - ETA: 1s - loss: 0.4754 - acc: 0 - ETA: 1s - loss: 0.4759 -\n",
      "Epoch 65/100\n",
      "100/100 [==============================] - 10s 104ms/step - loss: 0.4642 - acc: 0.7820 - val_loss: 0.4632 - val_acc: 0.7920\n",
      "Epoch 66/100\n",
      "100/100 [==============================] - 10s 102ms/step - loss: 0.4678 - acc: 0.7860 - val_loss: 0.4830 - val_acc: 0.7690\n",
      "Epoch 67/100\n",
      "100/100 [==============================] - 10s 105ms/step - loss: 0.4612 - acc: 0.7900 - val_loss: 0.5315 - val_acc: 0.7280\n",
      "Epoch 68/100\n",
      "100/100 [==============================] - 10s 103ms/step - loss: 0.4759 - acc: 0.7705 - val_loss: 0.7697 - val_acc: 0.6890\n",
      "Epoch 69/100\n",
      "100/100 [==============================] - 10s 104ms/step - loss: 0.4753 - acc: 0.7940 - val_loss: 0.5504 - val_acc: 0.7640\n",
      "Epoch 70/100\n",
      "100/100 [==============================] - 10s 102ms/step - loss: 0.4557 - acc: 0.7890 - val_loss: 0.5070 - val_acc: 0.7600\n",
      "Epoch 71/100\n",
      "100/100 [==============================] - 10s 104ms/step - loss: 0.4737 - acc: 0.7740 - val_loss: 0.4825 - val_acc: 0.7700\n",
      "Epoch 72/100\n",
      "100/100 [==============================] - 10s 103ms/step - loss: 0.4410 - acc: 0.8005 - val_loss: 0.4690 - val_acc: 0.7860\n",
      "Epoch 73/100\n",
      "100/100 [==============================] - 10s 104ms/step - loss: 0.4609 - acc: 0.7910 - val_loss: 0.4575 - val_acc: 0.7830\n",
      "Epoch 74/100\n",
      "100/100 [==============================] - 10s 102ms/step - loss: 0.4580 - acc: 0.7900 - val_loss: 0.6111 - val_acc: 0.7710\n",
      "Epoch 75/100\n",
      "100/100 [==============================] - 10s 104ms/step - loss: 0.4519 - acc: 0.8100 - val_loss: 0.5144 - val_acc: 0.7620\n",
      "Epoch 76/100\n",
      "100/100 [==============================] - 10s 103ms/step - loss: 0.4596 - acc: 0.7925 - val_loss: 0.7609 - val_acc: 0.6980\n",
      "Epoch 77/100\n",
      "100/100 [==============================] - 10s 104ms/step - loss: 0.4579 - acc: 0.7830 - val_loss: 0.5362 - val_acc: 0.7580\n",
      "Epoch 78/100\n",
      "100/100 [==============================] - 10s 103ms/step - loss: 0.4756 - acc: 0.7805 - val_loss: 0.4478 - val_acc: 0.8050\n",
      "Epoch 79/100\n",
      "100/100 [==============================] - 11s 105ms/step - loss: 0.4476 - acc: 0.7895 - val_loss: 0.5362 - val_acc: 0.7440ss: 0.4454 - acc: 0 - ETA: 1s - loss: 0.4440\n",
      "Epoch 80/100\n",
      "100/100 [==============================] - 10s 104ms/step - loss: 0.4583 - acc: 0.8020 - val_loss: 0.4660 - val_acc: 0.7830\n",
      "Epoch 81/100\n",
      "100/100 [==============================] - 10s 104ms/step - loss: 0.4653 - acc: 0.7890 - val_loss: 0.5801 - val_acc: 0.7190\n",
      "Epoch 82/100\n",
      "100/100 [==============================] - 10s 103ms/step - loss: 0.4695 - acc: 0.7765 - val_loss: 0.5083 - val_acc: 0.7770\n",
      "Epoch 83/100\n",
      "100/100 [==============================] - 10s 104ms/step - loss: 0.4562 - acc: 0.7955 - val_loss: 0.4611 - val_acc: 0.7950\n",
      "Epoch 84/100\n",
      "100/100 [==============================] - 10s 103ms/step - loss: 0.4491 - acc: 0.8005 - val_loss: 0.4927 - val_acc: 0.7950\n",
      "Epoch 85/100\n",
      "100/100 [==============================] - 10s 104ms/step - loss: 0.4656 - acc: 0.7835 - val_loss: 0.4929 - val_acc: 0.7760\n",
      "Epoch 86/100\n",
      "100/100 [==============================] - 10s 103ms/step - loss: 0.4608 - acc: 0.7930 - val_loss: 0.4714 - val_acc: 0.7990\n",
      "Epoch 87/100\n",
      "100/100 [==============================] - 10s 104ms/step - loss: 0.4427 - acc: 0.7990 - val_loss: 0.4614 - val_acc: 0.7970\n",
      "Epoch 88/100\n",
      "100/100 [==============================] - 10s 103ms/step - loss: 0.4454 - acc: 0.7990 - val_loss: 0.4420 - val_acc: 0.7940\n",
      "Epoch 89/100\n",
      "100/100 [==============================] - 10s 104ms/step - loss: 0.4560 - acc: 0.7880 - val_loss: 0.4366 - val_acc: 0.8040\n",
      "Epoch 90/100\n",
      "100/100 [==============================] - 10s 103ms/step - loss: 0.4419 - acc: 0.8075 - val_loss: 0.5223 - val_acc: 0.7720\n",
      "Epoch 91/100\n",
      "100/100 [==============================] - 10s 104ms/step - loss: 0.4645 - acc: 0.7975 - val_loss: 0.5220 - val_acc: 0.7610: 1s - loss: 0.\n",
      "Epoch 92/100\n",
      "100/100 [==============================] - 10s 102ms/step - loss: 0.4553 - acc: 0.8000 - val_loss: 0.4654 - val_acc: 0.7900\n",
      "Epoch 93/100\n",
      "100/100 [==============================] - 10s 103ms/step - loss: 0.4622 - acc: 0.8025 - val_loss: 0.4618 - val_acc: 0.7890\n",
      "Epoch 94/100\n",
      "100/100 [==============================] - 10s 102ms/step - loss: 0.4591 - acc: 0.7895 - val_loss: 0.7576 - val_acc: 0.7480\n",
      "Epoch 95/100\n",
      "100/100 [==============================] - 10s 104ms/step - loss: 0.4556 - acc: 0.7965 - val_loss: 0.5171 - val_acc: 0.7810\n",
      "Epoch 96/100\n",
      "100/100 [==============================] - 10s 102ms/step - loss: 0.4480 - acc: 0.8045 - val_loss: 0.4719 - val_acc: 0.7920\n",
      "Epoch 97/100\n",
      "100/100 [==============================] - 10s 104ms/step - loss: 0.4732 - acc: 0.7815 - val_loss: 0.4621 - val_acc: 0.78500\n",
      "Epoch 98/100\n",
      "100/100 [==============================] - 10s 102ms/step - loss: 0.4581 - acc: 0.7880 - val_loss: 0.4897 - val_acc: 0.7910o - ETA: 1s - loss: 0.452\n",
      "Epoch 99/100\n",
      "100/100 [==============================] - 10s 103ms/step - loss: 0.4509 - acc: 0.7980 - val_loss: 0.4641 - val_acc: 0.8000s - loss: 0.4554 - acc: 0.7 - ETA: 1s - loss: 0.4544 - a - ETA: 1s - loss: 0.4518 -\n",
      "Epoch 100/100\n",
      "100/100 [==============================] - 10s 102ms/step - loss: 0.4493 - acc: 0.8115 - val_loss: 0.7776 - val_acc: 0.7160\n"
     ]
    }
   ],
   "source": [
    "history = model.fit(train_generator,\n",
    "                              validation_data=validation_generator,\n",
    "                              steps_per_epoch=100,\n",
    "                              epochs=100,\n",
    "                              validation_steps=50,\n",
    "                              verbose=1)"
   ]
  },
  {
   "cell_type": "code",
   "execution_count": 9,
   "metadata": {},
   "outputs": [
    {
     "data": {
      "text/plain": [
       "Text(0.5, 1.0, 'Training and validation loss')"
      ]
     },
     "execution_count": 9,
     "metadata": {},
     "output_type": "execute_result"
    },
    {
     "data": {
      "image/png": "[encoded data removed]",
      "text/plain": [
       "<Figure size 432x288 with 1 Axes>"
      ]
     },
     "metadata": {
      "needs_background": "light"
     },
     "output_type": "display_data"
    },
    {
     "data": {
      "image/png": "[encoded data removed]",
      "text/plain": [
       "<Figure size 432x288 with 1 Axes>"
      ]
     },
     "metadata": {
      "needs_background": "light"
     },
     "output_type": "display_data"
    }
   ],
   "source": [
    "import matplotlib.pyplot as plt\n",
    "\n",
    "#-----------------------------------------------------------\n",
    "# Retrieve a list of list results on training and test data\n",
    "# sets for each training epoch\n",
    "#-----------------------------------------------------------\n",
    "acc      = history.history[     'acc' ]\n",
    "val_acc  = history.history[ 'val_acc' ]\n",
    "loss     = history.history[    'loss' ]\n",
    "val_loss = history.history['val_loss' ]\n",
    "\n",
    "epochs   = range(len(acc)) # Get number of epochs\n",
    "\n",
    "#------------------------------------------------\n",
    "# Plot training and validation accuracy per epoch\n",
    "#------------------------------------------------\n",
    "plt.plot  ( epochs,     acc )\n",
    "plt.plot  ( epochs, val_acc )\n",
    "plt.title ('Training and validation accuracy')\n",
    "plt.figure()\n",
    "\n",
    "#------------------------------------------------\n",
    "# Plot training and validation loss per epoch\n",
    "#------------------------------------------------\n",
    "plt.plot  ( epochs,     loss )\n",
    "plt.plot  ( epochs, val_loss )\n",
    "plt.title ('Training and validation loss'   )"
   ]
  },
  {
   "cell_type": "code",
   "execution_count": 10,
   "metadata": {},
   "outputs": [],
   "source": [
    "from tensorflow.keras.preprocessing import image\n",
    "import numpy as np\n",
    "\n",
    "test = os.path.join(base_dir, 'test')\n",
    "for dirpath, dirs, files in os.walk(test):\n",
    "    files.sort()\n",
    "    for filename in files:\n",
    "        test_path = os.path.join(dirpath, filename)\n",
    "        img = image.load_img(test_path, target_size=(150, 150))\n",
    "        x = image.img_to_array(img)\n",
    "        x = np.expand_dims(x, axis=0)\n",
    "\n",
    "        images = np.vstack([x])\n",
    "        classes = model.predict(images, batch_size=10)\n",
    "        if classes[0]>0:\n",
    "            print(filename + \" is a dog\")\n",
    "        else:\n",
    "            print(filename + \" is a cat\")        \n"
   ]
  },
  {
   "cell_type": "code",
   "execution_count": null,
   "metadata": {},
   "outputs": [],
   "source": []
  }
 ],
 "metadata": {
  "kernelspec": {
   "display_name": "Python 3",
   "language": "python",
   "name": "python3"
  },
  "language_info": {
   "codemirror_mode": {
    "name": "ipython",
    "version": 3
   },
   "file_extension": ".py",
   "mimetype": "text/x-python",
   "name": "python",
   "nbconvert_exporter": "python",
   "pygments_lexer": "ipython3",
   "version": "3.8.5"
  }
 },
 "nbformat": 4,
 "nbformat_minor": 4
}
