{
 "cells": [
  {
   "cell_type": "code",
   "execution_count": 1,
   "metadata": {},
   "outputs": [],
   "source": [
    "import tensorflow as tf\n",
    "from tensorflow.keras.preprocessing.image import ImageDataGenerator\n",
    "from tensorflow.keras.optimizers import RMSprop\n",
    "import os"
   ]
  },
  {
   "cell_type": "code",
   "execution_count": 2,
   "metadata": {},
   "outputs": [],
   "source": [
    "base_dir = 'cats_and_dogs_filtered'\n",
    "\n",
    "train_dir = os.path.join(base_dir, 'train')\n",
    "validation_dir = os.path.join(base_dir, 'validation')\n",
    "\n",
    "# Directory with our training cat/dog pictures\n",
    "train_cats_dir = os.path.join(train_dir, 'cats')\n",
    "train_dogs_dir = os.path.join(train_dir, 'dogs')\n",
    "\n",
    "# Directory with our validation cat/dog pictures\n",
    "validation_cats_dir = os.path.join(validation_dir, 'cats')\n",
    "validation_dogs_dir = os.path.join(validation_dir, 'dogs')\n"
   ]
  },
  {
   "cell_type": "code",
   "execution_count": 3,
   "metadata": {},
   "outputs": [
    {
     "name": "stdout",
     "output_type": "stream",
     "text": [
      "Found 2000 images belonging to 2 classes.\n"
     ]
    }
   ],
   "source": [
    "train_datagen = ImageDataGenerator(\n",
    "    rescale=1./255,\n",
    "    rotation_range=40,\n",
    "    width_shift_range=0.2,\n",
    "    height_shift_range=0.2,\n",
    "    shear_range=0.2,\n",
    "    zoom_range=0.2,\n",
    "    horizontal_flip=True,\n",
    "    fill_mode='nearest'\n",
    ")\n",
    "train_generator = train_datagen.flow_from_directory(\n",
    "    train_dir,\n",
    "    target_size=(150, 150),\n",
    "    batch_size=20,\n",
    "    class_mode='binary'\n",
    ")"
   ]
  },
  {
   "cell_type": "code",
   "execution_count": 4,
   "metadata": {},
   "outputs": [
    {
     "name": "stdout",
     "output_type": "stream",
     "text": [
      "Found 1000 images belonging to 2 classes.\n"
     ]
    }
   ],
   "source": [
    "test_datagen = ImageDataGenerator(rescale=1./255)\n",
    "validation_generator = test_datagen.flow_from_directory(\n",
    "    validation_dir,\n",
    "    target_size=(150, 150),\n",
    "    batch_size=20,\n",
    "    class_mode='binary'\n",
    ")"
   ]
  },
  {
   "cell_type": "code",
   "execution_count": 5,
   "metadata": {},
   "outputs": [],
   "source": [
    "model = tf.keras.models.Sequential([\n",
    "    tf.keras.layers.Conv2D(16, (3,3), activation='relu', input_shape=(150, 150, 3)),\n",
    "    tf.keras.layers.MaxPooling2D(2,2),\n",
    "    tf.keras.layers.Conv2D(32, (3,3), activation='relu'),\n",
    "    tf.keras.layers.MaxPooling2D(2,2),\n",
    "    tf.keras.layers.Conv2D(64, (3,3), activation='relu'),\n",
    "    tf.keras.layers.MaxPooling2D(2,2),\n",
    "    tf.keras.layers.Flatten(),\n",
    "    tf.keras.layers.Dense(512, activation='relu'),\n",
    "    tf.keras.layers.Dense(1, activation='sigmoid')\n",
    "])"
   ]
  },
  {
   "cell_type": "code",
   "execution_count": 6,
   "metadata": {},
   "outputs": [
    {
     "name": "stdout",
     "output_type": "stream",
     "text": [
      "Model: \"sequential\"\n",
      "_________________________________________________________________\n",
      "Layer (type)                 Output Shape              Param #   \n",
      "=================================================================\n",
      "conv2d (Conv2D)              (None, 148, 148, 16)      448       \n",
      "_________________________________________________________________\n",
      "max_pooling2d (MaxPooling2D) (None, 74, 74, 16)        0         \n",
      "_________________________________________________________________\n",
      "conv2d_1 (Conv2D)            (None, 72, 72, 32)        4640      \n",
      "_________________________________________________________________\n",
      "max_pooling2d_1 (MaxPooling2 (None, 36, 36, 32)        0         \n",
      "_________________________________________________________________\n",
      "conv2d_2 (Conv2D)            (None, 34, 34, 64)        18496     \n",
      "_________________________________________________________________\n",
      "max_pooling2d_2 (MaxPooling2 (None, 17, 17, 64)        0         \n",
      "_________________________________________________________________\n",
      "flatten (Flatten)            (None, 18496)             0         \n",
      "_________________________________________________________________\n",
      "dense (Dense)                (None, 512)               9470464   \n",
      "_________________________________________________________________\n",
      "dense_1 (Dense)              (None, 1)                 513       \n",
      "=================================================================\n",
      "Total params: 9,494,561\n",
      "Trainable params: 9,494,561\n",
      "Non-trainable params: 0\n",
      "_________________________________________________________________\n"
     ]
    }
   ],
   "source": [
    "model.summary()"
   ]
  },
  {
   "cell_type": "code",
   "execution_count": 7,
   "metadata": {},
   "outputs": [],
   "source": [
    "model.compile(loss='binary_crossentropy',\n",
    "             optimizer=RMSprop(lr=0.001),\n",
    "             metrics=['acc'])"
   ]
  },
  {
   "cell_type": "code",
   "execution_count": 8,
   "metadata": {},
   "outputs": [
    {
     "name": "stdout",
     "output_type": "stream",
     "text": [
      "WARNING:tensorflow:sample_weight modes were coerced from\n",
      "  ...\n",
      "    to  \n",
      "  ['...']\n",
      "WARNING:tensorflow:sample_weight modes were coerced from\n",
      "  ...\n",
      "    to  \n",
      "  ['...']\n",
      "Train for 100 steps, validate for 50 steps\n",
      "Epoch 1/100\n",
      "100/100 [==============================] - 10s 101ms/step - loss: 0.8777 - acc: 0.5120 - val_loss: 0.6891 - val_acc: 0.5170\n",
      "Epoch 2/100\n",
      "100/100 [==============================] - 10s 97ms/step - loss: 0.7115 - acc: 0.5635 - val_loss: 0.6297 - val_acc: 0.6430\n",
      "Epoch 3/100\n",
      "100/100 [==============================] - 10s 97ms/step - loss: 0.6854 - acc: 0.6065 - val_loss: 0.6303 - val_acc: 0.6650\n",
      "Epoch 4/100\n",
      "100/100 [==============================] - 10s 97ms/step - loss: 0.6568 - acc: 0.6265 - val_loss: 0.6239 - val_acc: 0.6070\n",
      "Epoch 5/100\n",
      "100/100 [==============================] - 10s 97ms/step - loss: 0.6420 - acc: 0.6340 - val_loss: 0.5917 - val_acc: 0.6750\n",
      "Epoch 6/100\n",
      "100/100 [==============================] - 10s 97ms/step - loss: 0.6269 - acc: 0.6530 - val_loss: 0.5568 - val_acc: 0.7090\n",
      "Epoch 7/100\n",
      "100/100 [==============================] - 10s 97ms/step - loss: 0.6223 - acc: 0.6615 - val_loss: 0.6823 - val_acc: 0.6420\n",
      "Epoch 8/100\n",
      "100/100 [==============================] - 10s 97ms/step - loss: 0.6034 - acc: 0.6810 - val_loss: 0.5600 - val_acc: 0.7250\n",
      "Epoch 9/100\n",
      "100/100 [==============================] - 10s 97ms/step - loss: 0.6072 - acc: 0.6815 - val_loss: 0.5735 - val_acc: 0.6960\n",
      "Epoch 10/100\n",
      "100/100 [==============================] - 10s 98ms/step - loss: 0.6012 - acc: 0.7010 - val_loss: 0.5407 - val_acc: 0.7180\n",
      "Epoch 11/100\n",
      "100/100 [==============================] - 10s 97ms/step - loss: 0.5781 - acc: 0.7060 - val_loss: 0.5661 - val_acc: 0.6980\n",
      "Epoch 12/100\n",
      "100/100 [==============================] - 10s 97ms/step - loss: 0.5766 - acc: 0.7095 - val_loss: 0.5291 - val_acc: 0.7400\n",
      "Epoch 13/100\n",
      "100/100 [==============================] - 10s 97ms/step - loss: 0.5704 - acc: 0.7140 - val_loss: 0.5420 - val_acc: 0.7220\n",
      "Epoch 14/100\n",
      "100/100 [==============================] - 10s 97ms/step - loss: 0.5792 - acc: 0.7155 - val_loss: 0.5353 - val_acc: 0.7380\n",
      "Epoch 15/100\n",
      "100/100 [==============================] - 10s 97ms/step - loss: 0.5777 - acc: 0.7090 - val_loss: 0.7596 - val_acc: 0.6510\n",
      "Epoch 16/100\n",
      "100/100 [==============================] - 10s 97ms/step - loss: 0.5738 - acc: 0.7010 - val_loss: 0.5295 - val_acc: 0.7370\n",
      "Epoch 17/100\n",
      "100/100 [==============================] - 10s 97ms/step - loss: 0.5622 - acc: 0.7195 - val_loss: 0.5289 - val_acc: 0.7180\n",
      "Epoch 18/100\n",
      "100/100 [==============================] - 10s 97ms/step - loss: 0.5505 - acc: 0.7220 - val_loss: 0.5919 - val_acc: 0.6950\n",
      "Epoch 19/100\n",
      "100/100 [==============================] - 10s 96ms/step - loss: 0.5489 - acc: 0.7285 - val_loss: 0.5327 - val_acc: 0.7230\n",
      "Epoch 20/100\n",
      "100/100 [==============================] - 10s 96ms/step - loss: 0.5353 - acc: 0.7385 - val_loss: 0.5434 - val_acc: 0.7500\n",
      "Epoch 21/100\n",
      "100/100 [==============================] - 10s 97ms/step - loss: 0.5473 - acc: 0.7200 - val_loss: 0.5222 - val_acc: 0.7330\n",
      "Epoch 22/100\n",
      "100/100 [==============================] - 10s 96ms/step - loss: 0.5434 - acc: 0.7370 - val_loss: 0.5050 - val_acc: 0.7520\n",
      "Epoch 23/100\n",
      "100/100 [==============================] - 10s 96ms/step - loss: 0.5349 - acc: 0.7420 - val_loss: 0.5397 - val_acc: 0.7060\n",
      "Epoch 24/100\n",
      "100/100 [==============================] - 10s 96ms/step - loss: 0.5374 - acc: 0.7325 - val_loss: 0.5258 - val_acc: 0.7320\n",
      "Epoch 25/100\n",
      "100/100 [==============================] - 10s 96ms/step - loss: 0.5282 - acc: 0.7445 - val_loss: 0.6683 - val_acc: 0.6920\n",
      "Epoch 26/100\n",
      "100/100 [==============================] - 10s 96ms/step - loss: 0.5236 - acc: 0.7400 - val_loss: 0.4935 - val_acc: 0.7570\n",
      "Epoch 27/100\n",
      "100/100 [==============================] - 10s 96ms/step - loss: 0.5122 - acc: 0.7460 - val_loss: 0.5343 - val_acc: 0.7270\n",
      "Epoch 28/100\n",
      "100/100 [==============================] - 10s 96ms/step - loss: 0.5343 - acc: 0.7520 - val_loss: 0.5188 - val_acc: 0.7550\n",
      "Epoch 29/100\n",
      "100/100 [==============================] - 10s 96ms/step - loss: 0.5249 - acc: 0.7405 - val_loss: 0.5119 - val_acc: 0.7430\n",
      "Epoch 30/100\n",
      "100/100 [==============================] - 10s 96ms/step - loss: 0.5253 - acc: 0.7460 - val_loss: 0.4916 - val_acc: 0.7660\n",
      "Epoch 31/100\n",
      "100/100 [==============================] - 10s 96ms/step - loss: 0.5134 - acc: 0.7495 - val_loss: 0.5100 - val_acc: 0.7370\n",
      "Epoch 32/100\n",
      "100/100 [==============================] - 10s 96ms/step - loss: 0.5133 - acc: 0.7555 - val_loss: 0.4936 - val_acc: 0.7700\n",
      "Epoch 33/100\n",
      "100/100 [==============================] - 10s 96ms/step - loss: 0.5089 - acc: 0.7555 - val_loss: 0.6307 - val_acc: 0.7110\n",
      "Epoch 34/100\n",
      "100/100 [==============================] - 10s 96ms/step - loss: 0.5125 - acc: 0.7395 - val_loss: 0.5066 - val_acc: 0.7570\n",
      "Epoch 35/100\n",
      "100/100 [==============================] - 10s 96ms/step - loss: 0.5158 - acc: 0.7515 - val_loss: 0.5002 - val_acc: 0.7780\n",
      "Epoch 36/100\n",
      "100/100 [==============================] - 10s 96ms/step - loss: 0.5120 - acc: 0.7545 - val_loss: 0.5363 - val_acc: 0.7240\n",
      "Epoch 37/100\n",
      "100/100 [==============================] - 10s 96ms/step - loss: 0.5132 - acc: 0.7490 - val_loss: 0.4676 - val_acc: 0.7740\n",
      "Epoch 38/100\n",
      "100/100 [==============================] - 10s 97ms/step - loss: 0.4972 - acc: 0.7660 - val_loss: 0.5148 - val_acc: 0.7600\n",
      "Epoch 39/100\n",
      "100/100 [==============================] - 10s 98ms/step - loss: 0.5131 - acc: 0.7595 - val_loss: 0.5355 - val_acc: 0.7150\n",
      "Epoch 40/100\n",
      "100/100 [==============================] - 10s 97ms/step - loss: 0.4836 - acc: 0.7710 - val_loss: 0.5021 - val_acc: 0.7520\n",
      "Epoch 41/100\n",
      "100/100 [==============================] - 10s 97ms/step - loss: 0.5009 - acc: 0.7655 - val_loss: 0.4870 - val_acc: 0.7650\n",
      "Epoch 42/100\n",
      "100/100 [==============================] - 10s 96ms/step - loss: 0.4916 - acc: 0.7695 - val_loss: 0.4876 - val_acc: 0.7680\n",
      "Epoch 43/100\n",
      "100/100 [==============================] - 10s 96ms/step - loss: 0.4917 - acc: 0.7715 - val_loss: 0.5031 - val_acc: 0.7630\n",
      "Epoch 44/100\n",
      "100/100 [==============================] - 10s 96ms/step - loss: 0.5040 - acc: 0.7565 - val_loss: 0.5540 - val_acc: 0.7220\n",
      "Epoch 45/100\n",
      "100/100 [==============================] - 10s 96ms/step - loss: 0.4854 - acc: 0.7755 - val_loss: 0.4931 - val_acc: 0.7710\n",
      "Epoch 46/100\n",
      "100/100 [==============================] - 10s 96ms/step - loss: 0.4906 - acc: 0.7660 - val_loss: 0.4981 - val_acc: 0.7530\n",
      "Epoch 47/100\n",
      "100/100 [==============================] - 10s 96ms/step - loss: 0.4935 - acc: 0.7765 - val_loss: 0.5355 - val_acc: 0.7610\n",
      "Epoch 48/100\n",
      "100/100 [==============================] - 10s 96ms/step - loss: 0.5070 - acc: 0.7565 - val_loss: 0.4988 - val_acc: 0.7520\n",
      "Epoch 49/100\n",
      "100/100 [==============================] - 10s 97ms/step - loss: 0.4984 - acc: 0.7680 - val_loss: 0.5073 - val_acc: 0.7820\n",
      "Epoch 50/100\n",
      "100/100 [==============================] - 10s 96ms/step - loss: 0.4979 - acc: 0.7580 - val_loss: 0.4710 - val_acc: 0.7900\n",
      "Epoch 51/100\n",
      "100/100 [==============================] - 10s 96ms/step - loss: 0.4844 - acc: 0.7775 - val_loss: 0.9351 - val_acc: 0.6680\n",
      "Epoch 52/100\n",
      "100/100 [==============================] - 10s 96ms/step - loss: 0.5119 - acc: 0.7565 - val_loss: 0.5168 - val_acc: 0.7410\n",
      "Epoch 53/100\n",
      "100/100 [==============================] - 10s 96ms/step - loss: 0.4861 - acc: 0.7750 - val_loss: 0.5539 - val_acc: 0.7350\n",
      "Epoch 54/100\n",
      "100/100 [==============================] - 10s 96ms/step - loss: 0.4947 - acc: 0.7695 - val_loss: 0.5686 - val_acc: 0.6960\n",
      "Epoch 55/100\n",
      "100/100 [==============================] - 10s 96ms/step - loss: 0.4888 - acc: 0.7695 - val_loss: 0.5141 - val_acc: 0.7640\n",
      "Epoch 56/100\n",
      "100/100 [==============================] - 10s 96ms/step - loss: 0.4789 - acc: 0.7695 - val_loss: 0.6160 - val_acc: 0.7640\n",
      "Epoch 57/100\n",
      "100/100 [==============================] - 10s 97ms/step - loss: 0.4969 - acc: 0.7635 - val_loss: 0.4829 - val_acc: 0.7790\n",
      "Epoch 58/100\n",
      "100/100 [==============================] - 10s 97ms/step - loss: 0.4851 - acc: 0.7705 - val_loss: 0.5531 - val_acc: 0.7390\n",
      "Epoch 59/100\n",
      "100/100 [==============================] - 10s 97ms/step - loss: 0.4908 - acc: 0.7665 - val_loss: 0.4780 - val_acc: 0.7850\n"
     ]
    },
    {
     "name": "stdout",
     "output_type": "stream",
     "text": [
      "Epoch 60/100\n",
      "100/100 [==============================] - 10s 97ms/step - loss: 0.4982 - acc: 0.7745 - val_loss: 0.4819 - val_acc: 0.7700\n",
      "Epoch 61/100\n",
      "100/100 [==============================] - 10s 96ms/step - loss: 0.4873 - acc: 0.7760 - val_loss: 0.4975 - val_acc: 0.7670\n",
      "Epoch 62/100\n",
      "100/100 [==============================] - 10s 97ms/step - loss: 0.5003 - acc: 0.7750 - val_loss: 0.4501 - val_acc: 0.7990\n",
      "Epoch 63/100\n",
      "100/100 [==============================] - 10s 97ms/step - loss: 0.4751 - acc: 0.7790 - val_loss: 0.5025 - val_acc: 0.7860\n",
      "Epoch 64/100\n",
      "100/100 [==============================] - 10s 97ms/step - loss: 0.5015 - acc: 0.7615 - val_loss: 0.4720 - val_acc: 0.7710\n",
      "Epoch 65/100\n",
      "100/100 [==============================] - 10s 97ms/step - loss: 0.4831 - acc: 0.7705 - val_loss: 0.4666 - val_acc: 0.7900\n",
      "Epoch 66/100\n",
      "100/100 [==============================] - 10s 96ms/step - loss: 0.4870 - acc: 0.7685 - val_loss: 0.6164 - val_acc: 0.7490\n",
      "Epoch 67/100\n",
      "100/100 [==============================] - 10s 96ms/step - loss: 0.4755 - acc: 0.7895 - val_loss: 0.5545 - val_acc: 0.7350\n",
      "Epoch 68/100\n",
      "100/100 [==============================] - 10s 96ms/step - loss: 0.4778 - acc: 0.7780 - val_loss: 0.4647 - val_acc: 0.7900\n",
      "Epoch 69/100\n",
      "100/100 [==============================] - 10s 96ms/step - loss: 0.4892 - acc: 0.7725 - val_loss: 0.5376 - val_acc: 0.7500\n",
      "Epoch 70/100\n",
      "100/100 [==============================] - 10s 96ms/step - loss: 0.4889 - acc: 0.7845 - val_loss: 0.7198 - val_acc: 0.6660\n",
      "Epoch 71/100\n",
      "100/100 [==============================] - 10s 96ms/step - loss: 0.4878 - acc: 0.7725 - val_loss: 0.4620 - val_acc: 0.7730\n",
      "Epoch 72/100\n",
      "100/100 [==============================] - 10s 96ms/step - loss: 0.4962 - acc: 0.7765 - val_loss: 0.4556 - val_acc: 0.7900\n",
      "Epoch 73/100\n",
      "100/100 [==============================] - 10s 96ms/step - loss: 0.4850 - acc: 0.7745 - val_loss: 0.5243 - val_acc: 0.7460\n",
      "Epoch 74/100\n",
      "100/100 [==============================] - 10s 96ms/step - loss: 0.4880 - acc: 0.7790 - val_loss: 0.4688 - val_acc: 0.7910\n",
      "Epoch 75/100\n",
      "100/100 [==============================] - 10s 96ms/step - loss: 0.4645 - acc: 0.7935 - val_loss: 0.4859 - val_acc: 0.7780\n",
      "Epoch 76/100\n",
      "100/100 [==============================] - 10s 96ms/step - loss: 0.4924 - acc: 0.7870 - val_loss: 0.4769 - val_acc: 0.7900\n",
      "Epoch 77/100\n",
      "100/100 [==============================] - 10s 96ms/step - loss: 0.4867 - acc: 0.7760 - val_loss: 0.4493 - val_acc: 0.7900\n",
      "Epoch 78/100\n",
      "100/100 [==============================] - 10s 96ms/step - loss: 0.4745 - acc: 0.7785 - val_loss: 0.4744 - val_acc: 0.7710\n",
      "Epoch 79/100\n",
      "100/100 [==============================] - 10s 96ms/step - loss: 0.4906 - acc: 0.7730 - val_loss: 0.5416 - val_acc: 0.7400\n",
      "Epoch 80/100\n",
      "100/100 [==============================] - 10s 96ms/step - loss: 0.4969 - acc: 0.7700 - val_loss: 0.4635 - val_acc: 0.7920\n",
      "Epoch 81/100\n",
      "100/100 [==============================] - 10s 97ms/step - loss: 0.4822 - acc: 0.7780 - val_loss: 0.7444 - val_acc: 0.7060\n",
      "Epoch 82/100\n",
      "100/100 [==============================] - 10s 96ms/step - loss: 0.4985 - acc: 0.7820 - val_loss: 0.6041 - val_acc: 0.7260\n",
      "Epoch 83/100\n",
      "100/100 [==============================] - 10s 96ms/step - loss: 0.4816 - acc: 0.7710 - val_loss: 0.5395 - val_acc: 0.7420\n",
      "Epoch 84/100\n",
      "100/100 [==============================] - 10s 96ms/step - loss: 0.4882 - acc: 0.7755 - val_loss: 0.5144 - val_acc: 0.7880\n",
      "Epoch 85/100\n",
      "100/100 [==============================] - 10s 96ms/step - loss: 0.4881 - acc: 0.7795 - val_loss: 0.4641 - val_acc: 0.7800\n",
      "Epoch 86/100\n",
      "100/100 [==============================] - 10s 96ms/step - loss: 0.4891 - acc: 0.7925 - val_loss: 0.4324 - val_acc: 0.8050\n",
      "Epoch 87/100\n",
      "100/100 [==============================] - 10s 98ms/step - loss: 0.4662 - acc: 0.7925 - val_loss: 0.5279 - val_acc: 0.7310\n",
      "Epoch 88/100\n",
      "100/100 [==============================] - 10s 96ms/step - loss: 0.4664 - acc: 0.7770 - val_loss: 0.4715 - val_acc: 0.7770\n",
      "Epoch 89/100\n",
      "100/100 [==============================] - 10s 96ms/step - loss: 0.4888 - acc: 0.7810 - val_loss: 0.4772 - val_acc: 0.7730\n",
      "Epoch 90/100\n",
      "100/100 [==============================] - 10s 96ms/step - loss: 0.4753 - acc: 0.7790 - val_loss: 0.4804 - val_acc: 0.7680\n",
      "Epoch 91/100\n",
      "100/100 [==============================] - 10s 96ms/step - loss: 0.4961 - acc: 0.7840 - val_loss: 0.4953 - val_acc: 0.7810\n",
      "Epoch 92/100\n",
      "100/100 [==============================] - 10s 96ms/step - loss: 0.4702 - acc: 0.7935 - val_loss: 0.5288 - val_acc: 0.7400\n",
      "Epoch 93/100\n",
      "100/100 [==============================] - 10s 96ms/step - loss: 0.4795 - acc: 0.7730 - val_loss: 0.4688 - val_acc: 0.7850\n",
      "Epoch 94/100\n",
      "100/100 [==============================] - 10s 96ms/step - loss: 0.4596 - acc: 0.7830 - val_loss: 0.4471 - val_acc: 0.8070\n",
      "Epoch 95/100\n",
      "100/100 [==============================] - 10s 96ms/step - loss: 0.4650 - acc: 0.7940 - val_loss: 0.5011 - val_acc: 0.7680\n",
      "Epoch 96/100\n",
      "100/100 [==============================] - 10s 96ms/step - loss: 0.4593 - acc: 0.7920 - val_loss: 0.4555 - val_acc: 0.7950\n",
      "Epoch 97/100\n",
      "100/100 [==============================] - 10s 96ms/step - loss: 0.4842 - acc: 0.7865 - val_loss: 0.4723 - val_acc: 0.7920\n",
      "Epoch 98/100\n",
      "100/100 [==============================] - 10s 96ms/step - loss: 0.4759 - acc: 0.7825 - val_loss: 0.4408 - val_acc: 0.8050\n",
      "Epoch 99/100\n",
      "100/100 [==============================] - 10s 96ms/step - loss: 0.4686 - acc: 0.7780 - val_loss: 0.4769 - val_acc: 0.7810\n",
      "Epoch 100/100\n",
      "100/100 [==============================] - 10s 96ms/step - loss: 0.4928 - acc: 0.7735 - val_loss: 0.7107 - val_acc: 0.6900\n"
     ]
    }
   ],
   "source": [
    "history = model.fit(train_generator,\n",
    "                              validation_data=validation_generator,\n",
    "                              steps_per_epoch=100,\n",
    "                              epochs=100,\n",
    "                              validation_steps=50,\n",
    "                              verbose=1)"
   ]
  },
  {
   "cell_type": "code",
   "execution_count": 9,
   "metadata": {},
   "outputs": [
    {
     "data": {
      "text/plain": [
       "Text(0.5, 1.0, 'Training and validation loss')"
      ]
     },
     "execution_count": 9,
     "metadata": {},
     "output_type": "execute_result"
    },
    {
     "data": {
      "image/png": "[encoded data removed]",
      "text/plain": [
       "<Figure size 432x288 with 1 Axes>"
      ]
     },
     "metadata": {
      "needs_background": "light"
     },
     "output_type": "display_data"
    },
    {
     "data": {
      "image/png": "[encoded data removed]",
      "text/plain": [
       "<Figure size 432x288 with 1 Axes>"
      ]
     },
     "metadata": {
      "needs_background": "light"
     },
     "output_type": "display_data"
    }
   ],
   "source": [
    "import matplotlib.pyplot as plt\n",
    "\n",
    "#-----------------------------------------------------------\n",
    "# Retrieve a list of list results on training and test data\n",
    "# sets for each training epoch\n",
    "#-----------------------------------------------------------\n",
    "acc      = history.history[     'acc' ]\n",
    "val_acc  = history.history[ 'val_acc' ]\n",
    "loss     = history.history[    'loss' ]\n",
    "val_loss = history.history['val_loss' ]\n",
    "\n",
    "epochs   = range(len(acc)) # Get number of epochs\n",
    "\n",
    "#------------------------------------------------\n",
    "# Plot training and validation accuracy per epoch\n",
    "#------------------------------------------------\n",
    "plt.plot  ( epochs,     acc )\n",
    "plt.plot  ( epochs, val_acc )\n",
    "plt.title ('Training and validation accuracy')\n",
    "plt.figure()\n",
    "\n",
    "#------------------------------------------------\n",
    "# Plot training and validation loss per epoch\n",
    "#------------------------------------------------\n",
    "plt.plot  ( epochs,     loss )\n",
    "plt.plot  ( epochs, val_loss )\n",
    "plt.title ('Training and validation loss'   )"
   ]
  },
  {
   "cell_type": "code",
   "execution_count": 10,
   "metadata": {},
   "outputs": [
    {
     "name": "stdout",
     "output_type": "stream",
     "text": [
      "0.jpg is a cat\n",
      "1.jpg is a dog\n",
      "2.jpg is a dog\n",
      "3.jpg is a cat\n",
      "4.jpg is a dog\n",
      "5.jpg is a dog\n",
      "6.jpg is a dog\n",
      "7.jpg is a dog\n",
      "8.jpg is a dog\n",
      "9.jpg is a dog\n"
     ]
    }
   ],
   "source": [
    "from tensorflow.keras.preprocessing import image\n",
    "import numpy as np\n",
    "\n",
    "test = os.path.join(base_dir, 'test')\n",
    "for dirpath, dirs, files in os.walk(test):\n",
    "    files.sort()\n",
    "    for filename in files:\n",
    "        test_path = os.path.join(dirpath, filename)\n",
    "        img = image.load_img(test_path, target_size=(150, 150))\n",
    "        x = image.img_to_array(img)\n",
    "        x = np.expand_dims(x, axis=0)\n",
    "\n",
    "        images = np.vstack([x])\n",
    "        classes = model.predict(images, batch_size=10)\n",
    "        if classes[0]>0:\n",
    "            print(filename + \" is a dog\")\n",
    "        else:\n",
    "            print(filename + \" is a cat\")        \n"
   ]
  },
  {
   "cell_type": "code",
   "execution_count": 11,
   "metadata": {},
   "outputs": [
    {
     "name": "stdout",
     "output_type": "stream",
     "text": [
      "--2020-11-26 16:42:11--  https://storage.googleapis.com/mledu-datasets/inception_v3_weights_tf_dim_ordering_tf_kernels_notop.h5\n",
      "Resolving storage.googleapis.com (storage.googleapis.com)... 2404:6800:400a:808::2010, 2404:6800:400a:80c::2010, 2404:6800:400a:80b::2010, ...\n",
      "접속 storage.googleapis.com (storage.googleapis.com)|2404:6800:400a:808::2010|:443... 접속됨.\n",
      "HTTP request sent, awaiting response... 200 OK\n",
      "Length: 87910968 (84M) [application/x-hdf]\n",
      "Saving to: ‘/tmp/inception_v3_weights_tf_dim_ordering_tf_kernels_notop.h5’\n",
      "\n",
      "/tmp/inception_v3_w 100%[===================>]  83.84M  6.17MB/s    in 11s     \n",
      "\n",
      "2020-11-26 16:42:23 (7.68 MB/s) - ‘/tmp/inception_v3_weights_tf_dim_ordering_tf_kernels_notop.h5’ saved [87910968/87910968]\n",
      "\n"
     ]
    }
   ],
   "source": [
    "!wget --no-check-certificate \\\n",
    "    https://storage.googleapis.com/mledu-datasets/inception_v3_weights_tf_dim_ordering_tf_kernels_notop.h5 \\\n",
    "    -O /tmp/inception_v3_weights_tf_dim_ordering_tf_kernels_notop.h5"
   ]
  },
  {
   "cell_type": "code",
   "execution_count": null,
   "metadata": {},
   "outputs": [],
   "source": []
  }
 ],
 "metadata": {
  "kernelspec": {
   "display_name": "Python 3",
   "language": "python",
   "name": "python3"
  },
  "language_info": {
   "codemirror_mode": {
    "name": "ipython",
    "version": 3
   },
   "file_extension": ".py",
   "mimetype": "text/x-python",
   "name": "python",
   "nbconvert_exporter": "python",
   "pygments_lexer": "ipython3",
   "version": "3.6.9"
  }
 },
 "nbformat": 4,
 "nbformat_minor": 4
}
