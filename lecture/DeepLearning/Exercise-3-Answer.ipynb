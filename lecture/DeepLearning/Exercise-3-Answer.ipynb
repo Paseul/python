{
 "cells": [
  {
   "cell_type": "markdown",
   "metadata": {
    "id": "zF9uvbXNVrVY"
   },
   "source": [
    "## TensorFlow 및 기타 라이브러리 가져오기"
   ]
  },
  {
   "cell_type": "code",
   "execution_count": 1,
   "metadata": {},
   "outputs": [],
   "source": [
    "import matplotlib.pyplot as plt\n",
    "import numpy as np\n",
    "import os\n",
    "import PIL\n",
    "import tensorflow as tf\n",
    "\n",
    "from tensorflow import keras\n",
    "from tensorflow.keras import layers\n",
    "from tensorflow.keras.models import Sequential"
   ]
  },
  {
   "cell_type": "code",
   "execution_count": 2,
   "metadata": {
    "execution": {
     "iopub.execute_input": "2021-01-15T02:37:18.904293Z",
     "iopub.status.busy": "2021-01-15T02:37:18.902953Z",
     "iopub.status.idle": "2021-01-15T02:37:29.224305Z",
     "shell.execute_reply": "2021-01-15T02:37:29.223597Z"
    },
    "id": "57CcilYSG0zv"
   },
   "outputs": [],
   "source": [
    "import pathlib\n",
    "dataset_url = \"https://storage.googleapis.com/download.tensorflow.org/example_images/flower_photos.tgz\"\n",
    "data_dir = tf.keras.utils.get_file('flower_photos', origin=dataset_url, untar=True)\n",
    "data_dir = pathlib.Path(data_dir)"
   ]
  },
  {
   "cell_type": "code",
   "execution_count": 3,
   "metadata": {
    "execution": {
     "iopub.execute_input": "2021-01-15T02:37:29.545783Z",
     "iopub.status.busy": "2021-01-15T02:37:29.545079Z",
     "iopub.status.idle": "2021-01-15T02:37:29.546866Z",
     "shell.execute_reply": "2021-01-15T02:37:29.547292Z"
    },
    "id": "H74l2DoDI2XD"
   },
   "outputs": [],
   "source": [
    "batch_size = 32\n",
    "img_height = 180\n",
    "img_width = 180"
   ]
  },
  {
   "cell_type": "code",
   "execution_count": 4,
   "metadata": {
    "execution": {
     "iopub.execute_input": "2021-01-15T02:37:29.552387Z",
     "iopub.status.busy": "2021-01-15T02:37:29.551543Z",
     "iopub.status.idle": "2021-01-15T02:37:31.476207Z",
     "shell.execute_reply": "2021-01-15T02:37:31.475466Z"
    },
    "id": "fIR0kRZiI_AT"
   },
   "outputs": [
    {
     "name": "stdout",
     "output_type": "stream",
     "text": [
      "Found 3670 files belonging to 5 classes.\n",
      "Using 2936 files for training.\n"
     ]
    }
   ],
   "source": [
    "train_ds = tf.keras.preprocessing.image_dataset_from_directory(\n",
    "  data_dir,\n",
    "  validation_split=0.2,\n",
    "  subset=\"training\",\n",
    "  seed=123,\n",
    "  image_size=(img_height, img_width),\n",
    "  batch_size=batch_size)"
   ]
  },
  {
   "cell_type": "code",
   "execution_count": 5,
   "metadata": {
    "execution": {
     "iopub.execute_input": "2021-01-15T02:37:31.481895Z",
     "iopub.status.busy": "2021-01-15T02:37:31.481149Z",
     "iopub.status.idle": "2021-01-15T02:37:31.608047Z",
     "shell.execute_reply": "2021-01-15T02:37:31.607506Z"
    },
    "id": "iscU3UoVJBXj"
   },
   "outputs": [
    {
     "name": "stdout",
     "output_type": "stream",
     "text": [
      "Found 3670 files belonging to 5 classes.\n",
      "Using 734 files for validation.\n"
     ]
    }
   ],
   "source": [
    "val_ds = tf.keras.preprocessing.image_dataset_from_directory(\n",
    "  data_dir,\n",
    "  validation_split=0.2,\n",
    "  subset=\"validation\",\n",
    "  seed=123,\n",
    "  image_size=(img_height, img_width),\n",
    "  batch_size=batch_size)"
   ]
  },
  {
   "cell_type": "code",
   "execution_count": 6,
   "metadata": {
    "execution": {
     "iopub.execute_input": "2021-01-15T02:37:33.402383Z",
     "iopub.status.busy": "2021-01-15T02:37:33.401660Z",
     "iopub.status.idle": "2021-01-15T02:37:33.406210Z",
     "shell.execute_reply": "2021-01-15T02:37:33.405559Z"
    },
    "id": "nOjJSm7DKoZA"
   },
   "outputs": [],
   "source": [
    "AUTOTUNE = tf.data.experimental.AUTOTUNE\n",
    "\n",
    "train_ds = train_ds.cache().shuffle(1000).prefetch(buffer_size=AUTOTUNE)\n",
    "val_ds = val_ds.cache().prefetch(buffer_size=AUTOTUNE)"
   ]
  },
  {
   "cell_type": "code",
   "execution_count": 7,
   "metadata": {
    "execution": {
     "iopub.execute_input": "2021-01-15T02:37:39.185320Z",
     "iopub.status.busy": "2021-01-15T02:37:39.180142Z",
     "iopub.status.idle": "2021-01-15T02:37:39.249297Z",
     "shell.execute_reply": "2021-01-15T02:37:39.248645Z"
    },
    "id": "QR6argA1K074"
   },
   "outputs": [],
   "source": [
    "num_classes = 5\n",
    "\n",
    "# ResNet50V2, Xception MobileNetV2 InceptionV3 DenseNet121 중 1개를 사용해 보세요\n",
    "base_model = tf.keras.applications.ResNet50V2(input_shape=(img_height, img_width, 3),\n",
    "                                               include_top=False,\n",
    "                                               weights='imagenet')\n",
    "\n",
    "base_model.trainable = False\n",
    "\n",
    "model = Sequential([\n",
    "  layers.experimental.preprocessing.Rescaling(1./255),\n",
    "  base_model,\n",
    "  tf.keras.layers.GlobalAveragePooling2D(),\n",
    "  layers.Dense(5)\n",
    "])"
   ]
  },
  {
   "cell_type": "code",
   "execution_count": 8,
   "metadata": {
    "execution": {
     "iopub.execute_input": "2021-01-15T02:37:39.257564Z",
     "iopub.status.busy": "2021-01-15T02:37:39.256792Z",
     "iopub.status.idle": "2021-01-15T02:37:39.272892Z",
     "shell.execute_reply": "2021-01-15T02:37:39.272294Z"
    },
    "id": "jloGNS1MLx3A"
   },
   "outputs": [],
   "source": [
    "base_learning_rate = 0.0002\n",
    "model.compile(optimizer= tf.keras.optimizers.Adam(learning_rate=base_learning_rate),\n",
    "              loss=tf.keras.losses.SparseCategoricalCrossentropy(from_logits=True),\n",
    "              metrics=['accuracy'])"
   ]
  },
  {
   "cell_type": "code",
   "execution_count": null,
   "metadata": {
    "execution": {
     "iopub.execute_input": "2021-01-15T02:37:39.288209Z",
     "iopub.status.busy": "2021-01-15T02:37:39.287535Z",
     "iopub.status.idle": "2021-01-15T02:37:55.165420Z",
     "shell.execute_reply": "2021-01-15T02:37:55.165846Z"
    },
    "id": "5fWToCqYMErH"
   },
   "outputs": [
    {
     "name": "stdout",
     "output_type": "stream",
     "text": [
      "Epoch 1/10\n",
      "92/92 [==============================] - 24s 204ms/step - loss: 1.4088 - accuracy: 0.4714 - val_loss: 0.8851 - val_accuracy: 0.6689\n",
      "Epoch 2/10\n",
      "92/92 [==============================] - 16s 176ms/step - loss: 0.7460 - accuracy: 0.7350 - val_loss: 0.6652 - val_accuracy: 0.7793\n",
      "Epoch 3/10\n",
      "92/92 [==============================] - 16s 176ms/step - loss: 0.5893 - accuracy: 0.7864 - val_loss: 0.5783 - val_accuracy: 0.8038\n",
      "Epoch 4/10\n",
      "92/92 [==============================] - 16s 176ms/step - loss: 0.5078 - accuracy: 0.8205 - val_loss: 0.5280 - val_accuracy: 0.8256\n",
      "Epoch 5/10\n",
      "92/92 [==============================] - 16s 176ms/step - loss: 0.4515 - accuracy: 0.8406 - val_loss: 0.4949 - val_accuracy: 0.8338\n",
      "Epoch 6/10\n",
      "92/92 [==============================] - ETA: 0s - loss: 0.4093 - accuracy: 0.8590"
     ]
    }
   ],
   "source": [
    "epochs=10\n",
    "history = model.fit(\n",
    "  train_ds,\n",
    "  validation_data=val_ds,\n",
    "  epochs=epochs\n",
    ")"
   ]
  },
  {
   "cell_type": "code",
   "execution_count": null,
   "metadata": {
    "execution": {
     "iopub.execute_input": "2021-01-15T02:37:55.187956Z",
     "iopub.status.busy": "2021-01-15T02:37:55.185573Z",
     "iopub.status.idle": "2021-01-15T02:37:55.453180Z",
     "shell.execute_reply": "2021-01-15T02:37:55.453661Z"
    },
    "id": "jWnopEChMMCn"
   },
   "outputs": [],
   "source": [
    "acc = history.history['accuracy']\n",
    "val_acc = history.history['val_accuracy']\n",
    "\n",
    "loss=history.history['loss']\n",
    "val_loss=history.history['val_loss']\n",
    "\n",
    "epochs_range = range(epochs)\n",
    "\n",
    "plt.figure(figsize=(16, 8))\n",
    "plt.subplot(1, 2, 1)\n",
    "plt.plot(epochs_range, acc, label='Training Accuracy')\n",
    "plt.plot(epochs_range, val_acc, label='Validation Accuracy')\n",
    "plt.legend(loc='lower right')\n",
    "plt.title('Training and Validation Accuracy')\n",
    "\n",
    "plt.subplot(1, 2, 2)\n",
    "plt.plot(epochs_range, loss, label='Training Loss')\n",
    "plt.plot(epochs_range, val_loss, label='Validation Loss')\n",
    "plt.legend(loc='upper right')\n",
    "plt.title('Training and Validation Loss')\n",
    "plt.show()"
   ]
  },
  {
   "cell_type": "code",
   "execution_count": null,
   "metadata": {},
   "outputs": [],
   "source": []
  }
 ],
 "metadata": {
  "accelerator": "GPU",
  "colab": {
   "collapsed_sections": [],
   "name": "classification.ipynb",
   "toc_visible": true
  },
  "kernelspec": {
   "display_name": "Python 3 (ipykernel)",
   "language": "python",
   "name": "python3"
  },
  "language_info": {
   "codemirror_mode": {
    "name": "ipython",
    "version": 3
   },
   "file_extension": ".py",
   "mimetype": "text/x-python",
   "name": "python",
   "nbconvert_exporter": "python",
   "pygments_lexer": "ipython3",
   "version": "3.8.5"
  }
 },
 "nbformat": 4,
 "nbformat_minor": 1
}
