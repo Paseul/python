{
 "cells": [
  {
   "cell_type": "code",
   "execution_count": 1,
   "metadata": {
    "execution": {
     "iopub.execute_input": "2020-09-23T07:21:40.138081Z",
     "iopub.status.busy": "2020-09-23T07:21:40.137445Z",
     "iopub.status.idle": "2020-09-23T07:21:46.446713Z",
     "shell.execute_reply": "2020-09-23T07:21:46.447247Z"
    },
    "id": "2ew7HTbPpCJH"
   },
   "outputs": [
    {
     "name": "stdout",
     "output_type": "stream",
     "text": [
      "2.6.0\n"
     ]
    }
   ],
   "source": [
    "import tensorflow as tf\n",
    "from tensorflow import keras\n",
    "\n",
    "import numpy as np\n",
    "\n",
    "print(tf.__version__)"
   ]
  },
  {
   "cell_type": "code",
   "execution_count": 2,
   "metadata": {
    "execution": {
     "iopub.execute_input": "2020-09-23T07:21:46.451714Z",
     "iopub.status.busy": "2020-09-23T07:21:46.451075Z",
     "iopub.status.idle": "2020-09-23T07:21:51.511011Z",
     "shell.execute_reply": "2020-09-23T07:21:51.510277Z"
    },
    "id": "zXXx5Oc3pOmN"
   },
   "outputs": [],
   "source": [
    "imdb = keras.datasets.imdb\n",
    "\n",
    "(train_data, train_labels), (test_data, test_labels) = imdb.load_data(num_words=10000)"
   ]
  },
  {
   "cell_type": "code",
   "execution_count": 3,
   "metadata": {
    "execution": {
     "iopub.execute_input": "2020-09-23T07:21:51.516259Z",
     "iopub.status.busy": "2020-09-23T07:21:51.515529Z",
     "iopub.status.idle": "2020-09-23T07:21:51.517756Z",
     "shell.execute_reply": "2020-09-23T07:21:51.518283Z"
    },
    "id": "y8qCnve_-lkO"
   },
   "outputs": [
    {
     "name": "stdout",
     "output_type": "stream",
     "text": [
      "훈련 샘플: 25000, 레이블: 25000\n"
     ]
    }
   ],
   "source": [
    "print(\"훈련 샘플: {}, 레이블: {}\".format(len(train_data), len(train_labels)))"
   ]
  },
  {
   "cell_type": "code",
   "execution_count": 4,
   "metadata": {
    "execution": {
     "iopub.execute_input": "2020-09-23T07:21:51.522456Z",
     "iopub.status.busy": "2020-09-23T07:21:51.521790Z",
     "iopub.status.idle": "2020-09-23T07:21:51.524067Z",
     "shell.execute_reply": "2020-09-23T07:21:51.524506Z"
    },
    "id": "QtTS4kpEpjbi"
   },
   "outputs": [
    {
     "name": "stdout",
     "output_type": "stream",
     "text": [
      "[1, 14, 22, 16, 43, 530, 973, 1622, 1385, 65, 458, 4468, 66, 3941, 4, 173, 36, 256, 5, 25, 100, 43, 838, 112, 50, 670, 2, 9, 35, 480, 284, 5, 150, 4, 172, 112, 167, 2, 336, 385, 39, 4, 172, 4536, 1111, 17, 546, 38, 13, 447, 4, 192, 50, 16, 6, 147, 2025, 19, 14, 22, 4, 1920, 4613, 469, 4, 22, 71, 87, 12, 16, 43, 530, 38, 76, 15, 13, 1247, 4, 22, 17, 515, 17, 12, 16, 626, 18, 2, 5, 62, 386, 12, 8, 316, 8, 106, 5, 4, 2223, 5244, 16, 480, 66, 3785, 33, 4, 130, 12, 16, 38, 619, 5, 25, 124, 51, 36, 135, 48, 25, 1415, 33, 6, 22, 12, 215, 28, 77, 52, 5, 14, 407, 16, 82, 2, 8, 4, 107, 117, 5952, 15, 256, 4, 2, 7, 3766, 5, 723, 36, 71, 43, 530, 476, 26, 400, 317, 46, 7, 4, 2, 1029, 13, 104, 88, 4, 381, 15, 297, 98, 32, 2071, 56, 26, 141, 6, 194, 7486, 18, 4, 226, 22, 21, 134, 476, 26, 480, 5, 144, 30, 5535, 18, 51, 36, 28, 224, 92, 25, 104, 4, 226, 65, 16, 38, 1334, 88, 12, 16, 283, 5, 16, 4472, 113, 103, 32, 15, 16, 5345, 19, 178, 32]\n"
     ]
    }
   ],
   "source": [
    "print(train_data[0])"
   ]
  },
  {
   "cell_type": "code",
   "execution_count": 5,
   "metadata": {
    "execution": {
     "iopub.execute_input": "2020-09-23T07:21:51.533941Z",
     "iopub.status.busy": "2020-09-23T07:21:51.533232Z",
     "iopub.status.idle": "2020-09-23T07:21:51.536710Z",
     "shell.execute_reply": "2020-09-23T07:21:51.537234Z"
    },
    "id": "X-6Ii9Pfx6Nr"
   },
   "outputs": [
    {
     "data": {
      "text/plain": [
       "(218, 189)"
      ]
     },
     "execution_count": 5,
     "metadata": {},
     "output_type": "execute_result"
    }
   ],
   "source": [
    "len(train_data[0]), len(train_data[1])"
   ]
  },
  {
   "cell_type": "markdown",
   "metadata": {
    "id": "4wJg2FiYpuoX"
   },
   "source": [
    "### 정수를 단어로 다시 변환하기\n",
    "\n",
    "정수를 다시 텍스트로 변환하는 방법이 있다면 유용할 것입니다. 여기에서는 정수와 문자열을 매핑한 딕셔너리(dictionary) 객체에 질의하는\u001c",
    " 헬퍼(helper) 함수를 만들겠습니다:"
   ]
  },
  {
   "cell_type": "code",
   "execution_count": 6,
   "metadata": {
    "execution": {
     "iopub.execute_input": "2020-09-23T07:21:51.545348Z",
     "iopub.status.busy": "2020-09-23T07:21:51.544682Z",
     "iopub.status.idle": "2020-09-23T07:21:51.883966Z",
     "shell.execute_reply": "2020-09-23T07:21:51.884452Z"
    },
    "id": "tr5s_1alpzop"
   },
   "outputs": [],
   "source": [
    "# 단어와 정수 인덱스를 매핑한 딕셔너리\n",
    "word_index = imdb.get_word_index()\n",
    "\n",
    "# 처음 몇 개 인덱스는 사전에 정의되어 있습니다\n",
    "word_index = {k:(v+3) for k,v in word_index.items()}\n",
    "word_index[\"<PAD>\"] = 0\n",
    "word_index[\"<START>\"] = 1\n",
    "word_index[\"<UNK>\"] = 2  # unknown\n",
    "word_index[\"<UNUSED>\"] = 3\n",
    "\n",
    "reverse_word_index = dict([(value, key) for (key, value) in word_index.items()])\n",
    "\n",
    "def decode_review(text):\n",
    "    return ' '.join([reverse_word_index.get(i, '?') for i in text])"
   ]
  },
  {
   "cell_type": "code",
   "execution_count": 7,
   "metadata": {
    "execution": {
     "iopub.execute_input": "2020-09-23T07:21:51.889663Z",
     "iopub.status.busy": "2020-09-23T07:21:51.888856Z",
     "iopub.status.idle": "2020-09-23T07:21:51.892147Z",
     "shell.execute_reply": "2020-09-23T07:21:51.891488Z"
    },
    "id": "s_OqxmH6-lkn"
   },
   "outputs": [
    {
     "data": {
      "text/plain": [
       "\"<START> this film was just brilliant casting location scenery story direction everyone's really suited the part they played and you could just imagine being there robert <UNK> is an amazing actor and now the same being director <UNK> father came from the same scottish island as myself so i loved the fact there was a real connection with this film the witty remarks throughout the film were great it was just brilliant so much that i bought the film as soon as it was released for <UNK> and would recommend it to everyone to watch and the fly fishing was amazing really cried at the end it was so sad and you know what they say if you cry at a film it must have been good and this definitely was also <UNK> to the two little boy's that played the <UNK> of norman and paul they were just brilliant children are often left out of the <UNK> list i think because the stars that play them all grown up are such a big profile for the whole film but these children are amazing and should be praised for what they have done don't you think the whole story was so lovely because it was true and was someone's life after all that was shared with us all\""
      ]
     },
     "execution_count": 7,
     "metadata": {},
     "output_type": "execute_result"
    }
   ],
   "source": [
    "decode_review(train_data[0])"
   ]
  },
  {
   "cell_type": "code",
   "execution_count": 8,
   "metadata": {
    "execution": {
     "iopub.execute_input": "2020-09-23T07:21:51.901032Z",
     "iopub.status.busy": "2020-09-23T07:21:51.900342Z",
     "iopub.status.idle": "2020-09-23T07:21:52.915360Z",
     "shell.execute_reply": "2020-09-23T07:21:52.914520Z"
    },
    "id": "2jQv-omsHurp"
   },
   "outputs": [],
   "source": [
    "train_data = keras.preprocessing.sequence.pad_sequences(train_data,\n",
    "                                                        value=word_index[\"<PAD>\"],\n",
    "                                                        padding='post',\n",
    "                                                        maxlen=256)\n",
    "\n",
    "test_data = keras.preprocessing.sequence.pad_sequences(test_data,\n",
    "                                                       value=word_index[\"<PAD>\"],\n",
    "                                                       padding='post',\n",
    "                                                       maxlen=256)"
   ]
  },
  {
   "cell_type": "code",
   "execution_count": 9,
   "metadata": {
    "execution": {
     "iopub.execute_input": "2020-09-23T07:21:52.920484Z",
     "iopub.status.busy": "2020-09-23T07:21:52.919787Z",
     "iopub.status.idle": "2020-09-23T07:21:52.922925Z",
     "shell.execute_reply": "2020-09-23T07:21:52.922417Z"
    },
    "id": "USSSBnkE-lky"
   },
   "outputs": [
    {
     "data": {
      "text/plain": [
       "(256, 256)"
      ]
     },
     "execution_count": 9,
     "metadata": {},
     "output_type": "execute_result"
    }
   ],
   "source": [
    "len(train_data[0]), len(train_data[1])"
   ]
  },
  {
   "cell_type": "code",
   "execution_count": 10,
   "metadata": {
    "execution": {
     "iopub.execute_input": "2020-09-23T07:21:52.927715Z",
     "iopub.status.busy": "2020-09-23T07:21:52.927036Z",
     "iopub.status.idle": "2020-09-23T07:21:52.929853Z",
     "shell.execute_reply": "2020-09-23T07:21:52.929354Z"
    },
    "id": "TG8X9cqi-lk9"
   },
   "outputs": [
    {
     "name": "stdout",
     "output_type": "stream",
     "text": [
      "[   1   14   22   16   43  530  973 1622 1385   65  458 4468   66 3941\n",
      "    4  173   36  256    5   25  100   43  838  112   50  670    2    9\n",
      "   35  480  284    5  150    4  172  112  167    2  336  385   39    4\n",
      "  172 4536 1111   17  546   38   13  447    4  192   50   16    6  147\n",
      " 2025   19   14   22    4 1920 4613  469    4   22   71   87   12   16\n",
      "   43  530   38   76   15   13 1247    4   22   17  515   17   12   16\n",
      "  626   18    2    5   62  386   12    8  316    8  106    5    4 2223\n",
      " 5244   16  480   66 3785   33    4  130   12   16   38  619    5   25\n",
      "  124   51   36  135   48   25 1415   33    6   22   12  215   28   77\n",
      "   52    5   14  407   16   82    2    8    4  107  117 5952   15  256\n",
      "    4    2    7 3766    5  723   36   71   43  530  476   26  400  317\n",
      "   46    7    4    2 1029   13  104   88    4  381   15  297   98   32\n",
      " 2071   56   26  141    6  194 7486   18    4  226   22   21  134  476\n",
      "   26  480    5  144   30 5535   18   51   36   28  224   92   25  104\n",
      "    4  226   65   16   38 1334   88   12   16  283    5   16 4472  113\n",
      "  103   32   15   16 5345   19  178   32    0    0    0    0    0    0\n",
      "    0    0    0    0    0    0    0    0    0    0    0    0    0    0\n",
      "    0    0    0    0    0    0    0    0    0    0    0    0    0    0\n",
      "    0    0    0    0]\n"
     ]
    }
   ],
   "source": [
    "print(train_data[0])"
   ]
  },
  {
   "cell_type": "code",
   "execution_count": 11,
   "metadata": {
    "execution": {
     "iopub.execute_input": "2020-09-23T07:21:52.935695Z",
     "iopub.status.busy": "2020-09-23T07:21:52.934804Z",
     "iopub.status.idle": "2020-09-23T07:21:54.626430Z",
     "shell.execute_reply": "2020-09-23T07:21:54.626871Z"
    },
    "id": "xpKOoWgu-llD"
   },
   "outputs": [
    {
     "name": "stdout",
     "output_type": "stream",
     "text": [
      "Model: \"sequential\"\n",
      "_________________________________________________________________\n",
      "Layer (type)                 Output Shape              Param #   \n",
      "=================================================================\n",
      "embedding (Embedding)        (None, None, 16)          160000    \n",
      "_________________________________________________________________\n",
      "global_average_pooling1d (Gl (None, 16)                0         \n",
      "_________________________________________________________________\n",
      "dense (Dense)                (None, 16)                272       \n",
      "_________________________________________________________________\n",
      "dense_1 (Dense)              (None, 1)                 17        \n",
      "=================================================================\n",
      "Total params: 160,289\n",
      "Trainable params: 160,289\n",
      "Non-trainable params: 0\n",
      "_________________________________________________________________\n"
     ]
    }
   ],
   "source": [
    "# 입력 크기는 영화 리뷰 데이터셋에 적용된 어휘 사전의 크기입니다(10,000개의 단어)\n",
    "vocab_size = 10000\n",
    "\n",
    "model = keras.Sequential()\n",
    "model.add(keras.layers.Embedding(vocab_size, 16, input_shape=(None,)))\n",
    "model.add(keras.layers.GlobalAveragePooling1D())\n",
    "model.add(keras.layers.Dense(16, activation='relu'))\n",
    "model.add(keras.layers.Dense(1, activation='sigmoid'))\n",
    "\n",
    "model.summary()"
   ]
  },
  {
   "cell_type": "code",
   "execution_count": 12,
   "metadata": {
    "execution": {
     "iopub.execute_input": "2020-09-23T07:21:54.639995Z",
     "iopub.status.busy": "2020-09-23T07:21:54.639227Z",
     "iopub.status.idle": "2020-09-23T07:21:54.647130Z",
     "shell.execute_reply": "2020-09-23T07:21:54.646492Z"
    },
    "id": "Mr0GP-cQ-llN"
   },
   "outputs": [],
   "source": [
    "model.compile(optimizer='adam',\n",
    "              loss='binary_crossentropy',\n",
    "              metrics=['accuracy'])"
   ]
  },
  {
   "cell_type": "code",
   "execution_count": 13,
   "metadata": {
    "execution": {
     "iopub.execute_input": "2020-09-23T07:21:54.651865Z",
     "iopub.status.busy": "2020-09-23T07:21:54.651213Z",
     "iopub.status.idle": "2020-09-23T07:21:54.653218Z",
     "shell.execute_reply": "2020-09-23T07:21:54.653608Z"
    },
    "id": "-NpcXY9--llS"
   },
   "outputs": [],
   "source": [
    "x_val = train_data[:10000]\n",
    "partial_x_train = train_data[10000:]\n",
    "\n",
    "y_val = train_labels[:10000]\n",
    "partial_y_train = train_labels[10000:]"
   ]
  },
  {
   "cell_type": "code",
   "execution_count": 14,
   "metadata": {
    "execution": {
     "iopub.execute_input": "2020-09-23T07:21:54.658876Z",
     "iopub.status.busy": "2020-09-23T07:21:54.658250Z",
     "iopub.status.idle": "2020-09-23T07:22:08.874375Z",
     "shell.execute_reply": "2020-09-23T07:22:08.874803Z"
    },
    "id": "tXSGrjWZ-llW"
   },
   "outputs": [
    {
     "name": "stdout",
     "output_type": "stream",
     "text": [
      "Epoch 1/40\n",
      "30/30 [==============================] - 1s 10ms/step - loss: 0.6920 - accuracy: 0.6179 - val_loss: 0.6901 - val_accuracy: 0.7089\n",
      "Epoch 2/40\n",
      "30/30 [==============================] - 0s 7ms/step - loss: 0.6864 - accuracy: 0.7186 - val_loss: 0.6822 - val_accuracy: 0.7376\n",
      "Epoch 3/40\n",
      "30/30 [==============================] - ETA: 0s - loss: 0.6762 - accuracy: 0.74 - 0s 6ms/step - loss: 0.6740 - accuracy: 0.7503 - val_loss: 0.6670 - val_accuracy: 0.7460\n",
      "Epoch 4/40\n",
      "30/30 [==============================] - 0s 6ms/step - loss: 0.6524 - accuracy: 0.7750 - val_loss: 0.6421 - val_accuracy: 0.7702\n",
      "Epoch 5/40\n",
      "30/30 [==============================] - 0s 6ms/step - loss: 0.6206 - accuracy: 0.7920 - val_loss: 0.6089 - val_accuracy: 0.7850\n",
      "Epoch 6/40\n",
      "30/30 [==============================] - 0s 6ms/step - loss: 0.5804 - accuracy: 0.8083 - val_loss: 0.5696 - val_accuracy: 0.8008\n",
      "Epoch 7/40\n",
      "30/30 [==============================] - ETA: 0s - loss: 0.5404 - accuracy: 0.82 - 0s 6ms/step - loss: 0.5356 - accuracy: 0.8256 - val_loss: 0.5285 - val_accuracy: 0.8155\n",
      "Epoch 8/40\n",
      "30/30 [==============================] - 0s 7ms/step - loss: 0.4897 - accuracy: 0.8418 - val_loss: 0.4881 - val_accuracy: 0.8275\n",
      "Epoch 9/40\n",
      "30/30 [==============================] - 0s 7ms/step - loss: 0.4470 - accuracy: 0.8565 - val_loss: 0.4516 - val_accuracy: 0.8406\n",
      "Epoch 10/40\n",
      "30/30 [==============================] - 0s 6ms/step - loss: 0.4088 - accuracy: 0.8675 - val_loss: 0.4209 - val_accuracy: 0.8484\n",
      "Epoch 11/40\n",
      "30/30 [==============================] - 0s 6ms/step - loss: 0.3761 - accuracy: 0.8773 - val_loss: 0.3964 - val_accuracy: 0.8553\n",
      "Epoch 12/40\n",
      "30/30 [==============================] - ETA: 0s - loss: 0.3481 - accuracy: 0.88 - 0s 6ms/step - loss: 0.3480 - accuracy: 0.8871 - val_loss: 0.3749 - val_accuracy: 0.8599\n",
      "Epoch 13/40\n",
      "30/30 [==============================] - 0s 7ms/step - loss: 0.3241 - accuracy: 0.8919 - val_loss: 0.3581 - val_accuracy: 0.8662\n",
      "Epoch 14/40\n",
      "30/30 [==============================] - 0s 7ms/step - loss: 0.3036 - accuracy: 0.8971 - val_loss: 0.3442 - val_accuracy: 0.8703\n",
      "Epoch 15/40\n",
      "30/30 [==============================] - 0s 7ms/step - loss: 0.2860 - accuracy: 0.9029 - val_loss: 0.3331 - val_accuracy: 0.8729\n",
      "Epoch 16/40\n",
      "30/30 [==============================] - 0s 6ms/step - loss: 0.2706 - accuracy: 0.9075 - val_loss: 0.3232 - val_accuracy: 0.8757\n",
      "Epoch 17/40\n",
      "30/30 [==============================] - 0s 7ms/step - loss: 0.2564 - accuracy: 0.9117 - val_loss: 0.3157 - val_accuracy: 0.8779\n",
      "Epoch 18/40\n",
      "30/30 [==============================] - 0s 7ms/step - loss: 0.2433 - accuracy: 0.9159 - val_loss: 0.3100 - val_accuracy: 0.8784\n",
      "Epoch 19/40\n",
      "30/30 [==============================] - 0s 6ms/step - loss: 0.2320 - accuracy: 0.9193 - val_loss: 0.3043 - val_accuracy: 0.8803\n",
      "Epoch 20/40\n",
      "30/30 [==============================] - 0s 6ms/step - loss: 0.2214 - accuracy: 0.9238 - val_loss: 0.2996 - val_accuracy: 0.8809\n",
      "Epoch 21/40\n",
      "30/30 [==============================] - 0s 6ms/step - loss: 0.2114 - accuracy: 0.9274 - val_loss: 0.2956 - val_accuracy: 0.8831\n",
      "Epoch 22/40\n",
      "30/30 [==============================] - 0s 6ms/step - loss: 0.2027 - accuracy: 0.9302 - val_loss: 0.2932 - val_accuracy: 0.8833\n",
      "Epoch 23/40\n",
      "30/30 [==============================] - 0s 7ms/step - loss: 0.1941 - accuracy: 0.9341 - val_loss: 0.2913 - val_accuracy: 0.8826\n",
      "Epoch 24/40\n",
      "30/30 [==============================] - 0s 6ms/step - loss: 0.1862 - accuracy: 0.9378 - val_loss: 0.2888 - val_accuracy: 0.8838\n",
      "Epoch 25/40\n",
      "30/30 [==============================] - 0s 7ms/step - loss: 0.1784 - accuracy: 0.9417 - val_loss: 0.2875 - val_accuracy: 0.8847\n",
      "Epoch 26/40\n",
      "30/30 [==============================] - 0s 7ms/step - loss: 0.1711 - accuracy: 0.9451 - val_loss: 0.2869 - val_accuracy: 0.8846\n",
      "Epoch 27/40\n",
      "30/30 [==============================] - 0s 7ms/step - loss: 0.1645 - accuracy: 0.9470 - val_loss: 0.2867 - val_accuracy: 0.8843\n",
      "Epoch 28/40\n",
      "30/30 [==============================] - 0s 7ms/step - loss: 0.1582 - accuracy: 0.9501 - val_loss: 0.2858 - val_accuracy: 0.8855\n",
      "Epoch 29/40\n",
      "30/30 [==============================] - 0s 7ms/step - loss: 0.1523 - accuracy: 0.9522 - val_loss: 0.2858 - val_accuracy: 0.8855\n",
      "Epoch 30/40\n",
      "30/30 [==============================] - 0s 7ms/step - loss: 0.1464 - accuracy: 0.9561 - val_loss: 0.2873 - val_accuracy: 0.8849\n",
      "Epoch 31/40\n",
      "30/30 [==============================] - 0s 7ms/step - loss: 0.1411 - accuracy: 0.9576 - val_loss: 0.2875 - val_accuracy: 0.8855\n",
      "Epoch 32/40\n",
      "30/30 [==============================] - 0s 7ms/step - loss: 0.1353 - accuracy: 0.9603 - val_loss: 0.2883 - val_accuracy: 0.8860\n",
      "Epoch 33/40\n",
      "30/30 [==============================] - 0s 6ms/step - loss: 0.1308 - accuracy: 0.9620 - val_loss: 0.2902 - val_accuracy: 0.8848\n",
      "Epoch 34/40\n",
      "30/30 [==============================] - 0s 6ms/step - loss: 0.1266 - accuracy: 0.9631 - val_loss: 0.2926 - val_accuracy: 0.8868\n",
      "Epoch 35/40\n",
      "30/30 [==============================] - 0s 7ms/step - loss: 0.1215 - accuracy: 0.9661 - val_loss: 0.2931 - val_accuracy: 0.8857\n",
      "Epoch 36/40\n",
      "30/30 [==============================] - 0s 7ms/step - loss: 0.1170 - accuracy: 0.9673 - val_loss: 0.2948 - val_accuracy: 0.8846\n",
      "Epoch 37/40\n",
      "30/30 [==============================] - 0s 6ms/step - loss: 0.1133 - accuracy: 0.9684 - val_loss: 0.2968 - val_accuracy: 0.8854\n",
      "Epoch 38/40\n",
      "30/30 [==============================] - 0s 7ms/step - loss: 0.1086 - accuracy: 0.9703 - val_loss: 0.2999 - val_accuracy: 0.8835\n",
      "Epoch 39/40\n",
      "30/30 [==============================] - 0s 7ms/step - loss: 0.1046 - accuracy: 0.9713 - val_loss: 0.3019 - val_accuracy: 0.8849\n",
      "Epoch 40/40\n",
      "30/30 [==============================] - 0s 6ms/step - loss: 0.1013 - accuracy: 0.9737 - val_loss: 0.3047 - val_accuracy: 0.8829\n"
     ]
    }
   ],
   "source": [
    "history = model.fit(partial_x_train,\n",
    "                    partial_y_train,\n",
    "                    epochs=40,\n",
    "                    batch_size=512,\n",
    "                    validation_data=(x_val, y_val),\n",
    "                    verbose=1)"
   ]
  },
  {
   "cell_type": "code",
   "execution_count": 15,
   "metadata": {
    "execution": {
     "iopub.execute_input": "2020-09-23T07:22:08.879756Z",
     "iopub.status.busy": "2020-09-23T07:22:08.879054Z",
     "iopub.status.idle": "2020-09-23T07:22:10.410627Z",
     "shell.execute_reply": "2020-09-23T07:22:10.411068Z"
    },
    "id": "zOMKywn4zReN"
   },
   "outputs": [
    {
     "name": "stdout",
     "output_type": "stream",
     "text": [
      "782/782 - 1s - loss: 0.3241 - accuracy: 0.8716\n",
      "[0.32406899333000183, 0.8715999722480774]\n"
     ]
    }
   ],
   "source": [
    "results = model.evaluate(test_data,  test_labels, verbose=2)\n",
    "\n",
    "print(results)"
   ]
  },
  {
   "cell_type": "code",
   "execution_count": 16,
   "metadata": {
    "execution": {
     "iopub.execute_input": "2020-09-23T07:22:10.415929Z",
     "iopub.status.busy": "2020-09-23T07:22:10.415051Z",
     "iopub.status.idle": "2020-09-23T07:22:10.417656Z",
     "shell.execute_reply": "2020-09-23T07:22:10.418079Z"
    },
    "id": "VcvSXvhp-llb"
   },
   "outputs": [
    {
     "data": {
      "text/plain": [
       "dict_keys(['loss', 'accuracy', 'val_loss', 'val_accuracy'])"
      ]
     },
     "execution_count": 16,
     "metadata": {},
     "output_type": "execute_result"
    }
   ],
   "source": [
    "history_dict = history.history\n",
    "history_dict.keys()"
   ]
  },
  {
   "cell_type": "code",
   "execution_count": 17,
   "metadata": {
    "execution": {
     "iopub.execute_input": "2020-09-23T07:22:10.424038Z",
     "iopub.status.busy": "2020-09-23T07:22:10.423349Z",
     "iopub.status.idle": "2020-09-23T07:22:10.732376Z",
     "shell.execute_reply": "2020-09-23T07:22:10.732967Z"
    },
    "id": "nGoYf2Js-lle"
   },
   "outputs": [
    {
     "data": {
      "image/png": "[encoded data removed]",
      "text/plain": [
       "<Figure size 432x288 with 1 Axes>"
      ]
     },
     "metadata": {
      "needs_background": "light"
     },
     "output_type": "display_data"
    }
   ],
   "source": [
    "import matplotlib.pyplot as plt\n",
    "\n",
    "acc = history_dict['accuracy']\n",
    "val_acc = history_dict['val_accuracy']\n",
    "loss = history_dict['loss']\n",
    "val_loss = history_dict['val_loss']\n",
    "\n",
    "epochs = range(1, len(acc) + 1)\n",
    "\n",
    "# \"bo\"는 \"파란색 점\"입니다\n",
    "plt.plot(epochs, loss, 'bo', label='Training loss')\n",
    "# b는 \"파란 실선\"입니다\n",
    "plt.plot(epochs, val_loss, 'b', label='Validation loss')\n",
    "plt.title('Training and validation loss')\n",
    "plt.xlabel('Epochs')\n",
    "plt.ylabel('Loss')\n",
    "plt.legend()\n",
    "\n",
    "plt.show()"
   ]
  },
  {
   "cell_type": "code",
   "execution_count": 18,
   "metadata": {
    "execution": {
     "iopub.execute_input": "2020-09-23T07:22:10.749404Z",
     "iopub.status.busy": "2020-09-23T07:22:10.742226Z",
     "iopub.status.idle": "2020-09-23T07:22:10.887415Z",
     "shell.execute_reply": "2020-09-23T07:22:10.888043Z"
    },
    "id": "6hXx-xOv-llh"
   },
   "outputs": [
    {
     "data": {
      "image/png": "[encoded data removed]",
      "text/plain": [
       "<Figure size 432x288 with 1 Axes>"
      ]
     },
     "metadata": {
      "needs_background": "light"
     },
     "output_type": "display_data"
    }
   ],
   "source": [
    "plt.clf()   # 그림을 초기화합니다\n",
    "\n",
    "plt.plot(epochs, acc, 'bo', label='Training acc')\n",
    "plt.plot(epochs, val_acc, 'b', label='Validation acc')\n",
    "plt.title('Training and validation accuracy')\n",
    "plt.xlabel('Epochs')\n",
    "plt.ylabel('Accuracy')\n",
    "plt.legend()\n",
    "\n",
    "plt.show()"
   ]
  },
  {
   "cell_type": "code",
   "execution_count": 19,
   "metadata": {},
   "outputs": [],
   "source": [
    "model = tf.keras.Sequential([\n",
    "    tf.keras.layers.Embedding(vocab_size, 64),\n",
    "    tf.keras.layers.Bidirectional(tf.keras.layers.LSTM(64,  return_sequences=True)),\n",
    "    tf.keras.layers.Bidirectional(tf.keras.layers.LSTM(32)),\n",
    "    tf.keras.layers.Dense(64, activation='relu'),\n",
    "    tf.keras.layers.Dropout(0.5),\n",
    "    tf.keras.layers.Dense(1)\n",
    "])"
   ]
  },
  {
   "cell_type": "code",
   "execution_count": 20,
   "metadata": {},
   "outputs": [],
   "source": [
    "model.compile(loss=tf.keras.losses.BinaryCrossentropy(from_logits=True),\n",
    "              optimizer=tf.keras.optimizers.Adam(1e-4),\n",
    "              metrics=['accuracy'])"
   ]
  },
  {
   "cell_type": "code",
   "execution_count": 21,
   "metadata": {},
   "outputs": [
    {
     "name": "stdout",
     "output_type": "stream",
     "text": [
      "Epoch 1/40\n",
      "30/30 [==============================] - 12s 294ms/step - loss: 0.6932 - accuracy: 0.5035 - val_loss: 0.6931 - val_accuracy: 0.4947\n",
      "Epoch 2/40\n",
      "30/30 [==============================] - 8s 272ms/step - loss: 0.6927 - accuracy: 0.5035 - val_loss: 0.6927 - val_accuracy: 0.4947\n",
      "Epoch 3/40\n",
      "30/30 [==============================] - 8s 271ms/step - loss: 0.6920 - accuracy: 0.5035 - val_loss: 0.6917 - val_accuracy: 0.4947\n",
      "Epoch 4/40\n",
      "30/30 [==============================] - 8s 272ms/step - loss: 0.6890 - accuracy: 0.5035 - val_loss: 0.6860 - val_accuracy: 0.4947\n",
      "Epoch 5/40\n",
      "30/30 [==============================] - 8s 270ms/step - loss: 0.6616 - accuracy: 0.5309 - val_loss: 0.6016 - val_accuracy: 0.6913\n",
      "Epoch 6/40\n",
      "30/30 [==============================] - 8s 272ms/step - loss: 0.5115 - accuracy: 0.7648 - val_loss: 0.4364 - val_accuracy: 0.8167\n",
      "Epoch 7/40\n",
      "30/30 [==============================] - 8s 273ms/step - loss: 0.3843 - accuracy: 0.8466 - val_loss: 0.3777 - val_accuracy: 0.8476\n",
      "Epoch 8/40\n",
      "30/30 [==============================] - 8s 272ms/step - loss: 0.3216 - accuracy: 0.8822 - val_loss: 0.3445 - val_accuracy: 0.8550\n",
      "Epoch 9/40\n",
      "30/30 [==============================] - 8s 272ms/step - loss: 0.2717 - accuracy: 0.9051 - val_loss: 0.3370 - val_accuracy: 0.8683\n",
      "Epoch 10/40\n",
      "30/30 [==============================] - 8s 271ms/step - loss: 0.2398 - accuracy: 0.9241 - val_loss: 0.3367 - val_accuracy: 0.8642\n",
      "Epoch 11/40\n",
      "30/30 [==============================] - 8s 274ms/step - loss: 0.2048 - accuracy: 0.9387 - val_loss: 0.3631 - val_accuracy: 0.8733\n",
      "Epoch 12/40\n",
      "30/30 [==============================] - 8s 277ms/step - loss: 0.1850 - accuracy: 0.9471 - val_loss: 0.3698 - val_accuracy: 0.8759\n",
      "Epoch 13/40\n",
      "30/30 [==============================] - 8s 277ms/step - loss: 0.1634 - accuracy: 0.9580 - val_loss: 0.3752 - val_accuracy: 0.8757\n"
     ]
    }
   ],
   "source": [
    "callback = tf.keras.callbacks.EarlyStopping(monitor='val_loss', patience=3)\n",
    "\n",
    "rnn_history = model.fit(partial_x_train,\n",
    "                    partial_y_train,\n",
    "                    epochs=40,\n",
    "                    batch_size=512,\n",
    "                    validation_data=(x_val, y_val),\n",
    "                    callbacks=callback,\n",
    "                    verbose=1)"
   ]
  },
  {
   "cell_type": "code",
   "execution_count": 22,
   "metadata": {},
   "outputs": [
    {
     "data": {
      "text/plain": [
       "dict_keys(['loss', 'accuracy', 'val_loss', 'val_accuracy'])"
      ]
     },
     "execution_count": 22,
     "metadata": {},
     "output_type": "execute_result"
    }
   ],
   "source": [
    "history_dict = rnn_history.history\n",
    "history_dict.keys()"
   ]
  },
  {
   "cell_type": "code",
   "execution_count": 23,
   "metadata": {},
   "outputs": [
    {
     "data": {
      "image/png": "[encoded data removed]",
      "text/plain": [
       "<Figure size 432x288 with 1 Axes>"
      ]
     },
     "metadata": {
      "needs_background": "light"
     },
     "output_type": "display_data"
    }
   ],
   "source": [
    "import matplotlib.pyplot as plt\n",
    "\n",
    "acc = history_dict['accuracy']\n",
    "val_acc = history_dict['val_accuracy']\n",
    "loss = history_dict['loss']\n",
    "val_loss = history_dict['val_loss']\n",
    "\n",
    "epochs = range(1, len(acc) + 1)\n",
    "\n",
    "# \"bo\"는 \"파란색 점\"입니다\n",
    "plt.plot(epochs, loss, 'bo', label='Training loss')\n",
    "# b는 \"파란 실선\"입니다\n",
    "plt.plot(epochs, val_loss, 'b', label='Validation loss')\n",
    "plt.title('Training and validation loss')\n",
    "plt.xlabel('Epochs')\n",
    "plt.ylabel('Loss')\n",
    "plt.legend()\n",
    "\n",
    "plt.show()"
   ]
  },
  {
   "cell_type": "code",
   "execution_count": 24,
   "metadata": {},
   "outputs": [
    {
     "data": {
      "image/png": "[encoded data removed]",
      "text/plain": [
       "<Figure size 432x288 with 1 Axes>"
      ]
     },
     "metadata": {
      "needs_background": "light"
     },
     "output_type": "display_data"
    }
   ],
   "source": [
    "plt.clf()   # 그림을 초기화합니다\n",
    "\n",
    "plt.plot(epochs, acc, 'bo', label='Training acc')\n",
    "plt.plot(epochs, val_acc, 'b', label='Validation acc')\n",
    "plt.title('Training and validation accuracy')\n",
    "plt.xlabel('Epochs')\n",
    "plt.ylabel('Accuracy')\n",
    "plt.legend()\n",
    "\n",
    "plt.show()"
   ]
  },
  {
   "cell_type": "code",
   "execution_count": null,
   "metadata": {},
   "outputs": [],
   "source": []
  }
 ],
 "metadata": {
  "colab": {
   "collapsed_sections": [],
   "name": "text_classification.ipynb",
   "toc_visible": true
  },
  "kernelspec": {
   "display_name": "Python 3 (ipykernel)",
   "language": "python",
   "name": "python3"
  },
  "language_info": {
   "codemirror_mode": {
    "name": "ipython",
    "version": 3
   },
   "file_extension": ".py",
   "mimetype": "text/x-python",
   "name": "python",
   "nbconvert_exporter": "python",
   "pygments_lexer": "ipython3",
   "version": "3.8.5"
  }
 },
 "nbformat": 4,
 "nbformat_minor": 1
}
